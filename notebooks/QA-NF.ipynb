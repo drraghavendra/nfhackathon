{
 "cells": [
  {
   "cell_type": "code",
   "execution_count": 1,
   "metadata": {},
   "outputs": [
    {
     "name": "stderr",
     "output_type": "stream",
     "text": [
      "11/07/2020 17:23:48 - INFO - faiss -   Loading faiss.\n"
     ]
    }
   ],
   "source": [
    "import numpy as np\n",
    "import pandas as pd\n",
    "import json\n",
    "import glob\n",
    "import os\n",
    "import re\n",
    "from bs4 import BeautifulSoup \n",
    "\n",
    "from haystack import Finder\n",
    "from haystack.preprocessor.cleaning import clean_wiki_text\n",
    "from haystack.preprocessor.utils import convert_files_to_dicts, fetch_archive_from_http\n",
    "from haystack.reader.farm import FARMReader\n",
    "from haystack.reader.transformers import TransformersReader\n",
    "from haystack.utils import print_answers\n",
    "from haystack.document_store.elasticsearch import ElasticsearchDocumentStore\n",
    "from haystack.retriever.sparse import ElasticsearchRetriever"
   ]
  },
  {
   "cell_type": "markdown",
   "metadata": {},
   "source": [
    "## Define the QA model"
   ]
  },
  {
   "cell_type": "code",
   "execution_count": 2,
   "metadata": {},
   "outputs": [
    {
     "name": "stderr",
     "output_type": "stream",
     "text": [
      "11/07/2020 17:23:53 - INFO - elasticsearch -   HEAD http://localhost:9200/document [status:200 request:0.050s]\n",
      "11/07/2020 17:23:53 - INFO - elasticsearch -   GET http://localhost:9200/document [status:200 request:0.005s]\n",
      "11/07/2020 17:23:53 - INFO - elasticsearch -   PUT http://localhost:9200/document/_mapping [status:200 request:0.096s]\n",
      "11/07/2020 17:23:53 - INFO - elasticsearch -   HEAD http://localhost:9200/label [status:200 request:0.004s]\n"
     ]
    }
   ],
   "source": [
    "document_store = ElasticsearchDocumentStore(host=\"localhost\", username=\"\", password=\"\", index=\"document\")"
   ]
  },
  {
   "cell_type": "code",
   "execution_count": 8,
   "metadata": {},
   "outputs": [
    {
     "name": "stderr",
     "output_type": "stream",
     "text": [
      "10/11/2020 22:02:48 - INFO - elasticsearch -   POST http://localhost:9200/document/_delete_by_query [status:200 request:0.693s]\n"
     ]
    }
   ],
   "source": [
    "document_store.delete_all_documents(index = 'document')"
   ]
  },
  {
   "cell_type": "code",
   "execution_count": 6,
   "metadata": {},
   "outputs": [
    {
     "name": "stderr",
     "output_type": "stream",
     "text": [
      "11/07/2020 13:57:44 - INFO - elasticsearch -   POST http://localhost:9200/document/_count [status:200 request:0.093s]\n"
     ]
    },
    {
     "data": {
      "text/plain": [
       "0"
      ]
     },
     "execution_count": 6,
     "metadata": {},
     "output_type": "execute_result"
    }
   ],
   "source": [
    "document_store.get_document_count()"
   ]
  },
  {
   "cell_type": "code",
   "execution_count": 10,
   "metadata": {},
   "outputs": [],
   "source": [
    "retriever = ElasticsearchRetriever(document_store=document_store)"
   ]
  },
  {
   "cell_type": "code",
   "execution_count": 11,
   "metadata": {},
   "outputs": [
    {
     "name": "stderr",
     "output_type": "stream",
     "text": [
      "11/07/2020 17:31:34 - INFO - farm.utils -   device: cpu n_gpu: 0, distributed training: False, automatic mixed precision training: None\n",
      "11/07/2020 17:31:34 - INFO - farm.infer -   Could not find `ktrapeznikov/biobert_v1.1_pubmed_squad_v2` locally. Try to download from model hub ...\n",
      "11/07/2020 17:31:37 - WARNING - farm.modeling.language_model -   Could not automatically detect from language model name what language it is. \n",
      "\t We guess it's an *ENGLISH* model ... \n",
      "\t If not: Init the language model by supplying the 'language' param.\n",
      "11/07/2020 17:31:43 - INFO - farm.utils -   device: cpu n_gpu: 0, distributed training: False, automatic mixed precision training: None\n",
      "11/07/2020 17:31:43 - INFO - farm.infer -   Got ya 7 parallel workers to do inference ...\n",
      "11/07/2020 17:31:43 - INFO - farm.infer -    0    0    0    0    0    0    0 \n",
      "11/07/2020 17:31:43 - INFO - farm.infer -   /w\\  /w\\  /w\\  /w\\  /w\\  /w\\  /w\\\n",
      "11/07/2020 17:31:43 - INFO - farm.infer -   /'\\  / \\  /'\\  /'\\  / \\  / \\  /'\\\n",
      "11/07/2020 17:31:43 - INFO - farm.infer -               \n"
     ]
    }
   ],
   "source": [
    "# use the pretrained bert model on the biology pubmed dataset\n",
    "reader = FARMReader(\"ktrapeznikov/biobert_v1.1_pubmed_squad_v2\", use_gpu=False)"
   ]
  },
  {
   "cell_type": "code",
   "execution_count": 12,
   "metadata": {},
   "outputs": [],
   "source": [
    "finder = Finder(reader, retriever)"
   ]
  },
  {
   "cell_type": "markdown",
   "metadata": {},
   "source": [
    "## Articles XML files"
   ]
  },
  {
   "cell_type": "code",
   "execution_count": 7,
   "metadata": {},
   "outputs": [],
   "source": [
    "all_doc_files = glob.glob('../data/HACKXML0000000004/**/*.xml', recursive=True)[1:]"
   ]
  },
  {
   "cell_type": "code",
   "execution_count": 8,
   "metadata": {},
   "outputs": [
    {
     "data": {
      "text/plain": [
       "263"
      ]
     },
     "execution_count": 8,
     "metadata": {},
     "output_type": "execute_result"
    }
   ],
   "source": [
    "len(all_doc_files)"
   ]
  },
  {
   "cell_type": "code",
   "execution_count": 9,
   "metadata": {},
   "outputs": [],
   "source": [
    "def nf2020toDict():\n",
    "    paths = \"../data/HACKXML0000000004/**/*.xml\"\n",
    "    target_tags = ['simple-para', 'para']\n",
    "\n",
    "    docs = []\n",
    "    for path in glob.glob(paths)[1:]:\n",
    "        with open(path, 'r') as f: \n",
    "            data = BeautifulSoup(f.read() , \"xml\") \n",
    "        temp = {}\n",
    "        temp[\"meta\"] = {}\n",
    "        temp[\"meta\"]['title'] = data.find('title').getText()\n",
    "        temp[\"meta\"][\"paper_id\"] = data.find('aid').getText()\n",
    "        temp[\"meta\"][\"doi\"] = data.find('doi').getText()\n",
    "        temp[\"meta\"][\"jid\"] = data.find('jid').getText()\n",
    "        \n",
    "        paper_text = [t for t in data.find_all(text=True) if t.parent.name in target_tags]\n",
    "        temp[\"text\"] = ''.join(paper_text)\n",
    "        \n",
    "        docs.append(temp)\n",
    "    return docs"
   ]
  },
  {
   "cell_type": "code",
   "execution_count": 10,
   "metadata": {},
   "outputs": [],
   "source": [
    "nf_docs = nf2020toDict()"
   ]
  },
  {
   "cell_type": "code",
   "execution_count": 37,
   "metadata": {},
   "outputs": [],
   "source": [
    "#nf_docs[1]['text']"
   ]
  },
  {
   "cell_type": "code",
   "execution_count": 26,
   "metadata": {},
   "outputs": [],
   "source": [
    "#dicts = convert_files_to_dicts(dir_path=doc_dir, clean_func=clean_wiki_text, split_paragraphs=True)"
   ]
  },
  {
   "cell_type": "code",
   "execution_count": 11,
   "metadata": {},
   "outputs": [
    {
     "name": "stderr",
     "output_type": "stream",
     "text": [
      "11/07/2020 13:58:06 - INFO - elasticsearch -   POST http://localhost:9200/_bulk?refresh=wait_for [status:200 request:2.294s]\n"
     ]
    }
   ],
   "source": [
    "# Now, let's write the dicts containing documents to our DB.\n",
    "document_store.write_documents(nf_docs)"
   ]
  },
  {
   "cell_type": "code",
   "execution_count": 15,
   "metadata": {},
   "outputs": [
    {
     "name": "stderr",
     "output_type": "stream",
     "text": [
      "11/07/2020 13:58:40 - INFO - elasticsearch -   POST http://localhost:9200/document/_search [status:200 request:0.163s]\n",
      "11/07/2020 13:58:40 - INFO - haystack.retriever.sparse -   Got 10 candidates from retriever\n",
      "11/07/2020 13:58:40 - INFO - haystack.finder -   Reader is looking for detailed answer in 127755 chars ...\n",
      "Inferencing Samples: 100%|██████████| 1/1 [00:17<00:00, 17.16s/ Batches]\n",
      "Inferencing Samples: 100%|██████████| 1/1 [00:04<00:00,  4.09s/ Batches]\n",
      "Inferencing Samples: 100%|██████████| 1/1 [00:05<00:00,  5.30s/ Batches]\n",
      "Inferencing Samples: 100%|██████████| 1/1 [00:09<00:00,  9.75s/ Batches]\n",
      "Inferencing Samples: 100%|██████████| 2/2 [00:52<00:00, 26.19s/ Batches]\n",
      "Inferencing Samples: 100%|██████████| 1/1 [00:09<00:00,  9.83s/ Batches]\n",
      "Inferencing Samples: 100%|██████████| 1/1 [00:11<00:00, 11.48s/ Batches]\n",
      "Inferencing Samples: 100%|██████████| 1/1 [00:12<00:00, 12.15s/ Batches]\n",
      "Inferencing Samples: 100%|██████████| 1/1 [00:16<00:00, 16.38s/ Batches]\n",
      "Inferencing Samples: 100%|██████████| 1/1 [00:14<00:00, 14.38s/ Batches]\n"
     ]
    }
   ],
   "source": [
    "prediction = finder.get_answers(question=\"What is Neurofibromatosis\", top_k_retriever=10, top_k_reader=5)"
   ]
  },
  {
   "cell_type": "code",
   "execution_count": 16,
   "metadata": {},
   "outputs": [
    {
     "name": "stdout",
     "output_type": "stream",
     "text": [
      "[   {   'answer': 'benign neurofibroma',\n",
      "        'context': 'is muscle in 2001. The pathological diagnoses were '\n",
      "                   'lipofibroma or benign neurofibroma.When he presented at '\n",
      "                   'our department in 2005, computed tomography'},\n",
      "    {   'answer': 'subperiosteal neurofibromas',\n",
      "        'context': 'e represents only the third case in the medical literature '\n",
      "                   'of subperiosteal neurofibromas presenting with '\n",
      "                   'subperiosteal hemorrhage. As in this case, t'},\n",
      "    {   'answer': 'neurofibromatosis',\n",
      "        'context': 'to be differentiated from a long list of diagnoses . '\n",
      "                   'Historically, neurofibromatosis was the most common '\n",
      "                   'mistaken diagnosis. The most important step i'},\n",
      "    {   'answer': 'dermal neurofibroma',\n",
      "        'context': 'ciated MPNST patients.Previously, we established a mouse '\n",
      "                   'model of dermal neurofibroma (dNF) where we demonstrate '\n",
      "                   'that -deficient SKPs can give rise to'},\n",
      "    {   'answer': 'one of the most common human genetic disorders of the '\n",
      "                  'nervous system',\n",
      "        'context': 'tients.Neurofibromatosis type 1 (NF1) is one of the most '\n",
      "                   'common human genetic disorders of the nervous system and '\n",
      "                   'affects one in 3,500 individuals aro'}]\n"
     ]
    }
   ],
   "source": [
    "print_answers(prediction, details=\"minimal\")"
   ]
  },
  {
   "cell_type": "markdown",
   "metadata": {},
   "source": [
    "## Other paper docs only containing the abstract"
   ]
  },
  {
   "cell_type": "code",
   "execution_count": 17,
   "metadata": {},
   "outputs": [],
   "source": [
    "ctf_hackathon_doc = pd.read_json('../data/ctf-hackathon-upload.json', lines=True)"
   ]
  },
  {
   "cell_type": "code",
   "execution_count": 18,
   "metadata": {},
   "outputs": [
    {
     "data": {
      "text/plain": [
       "Index(['Eid', 'abstract', 'affiliation_organization', 'title', 'year',\n",
       "       'sourcetitle', 'issn_print', 'doi', 'openaccess', 'meta_language',\n",
       "       'References', 'pmid', 'publishername', 'keywords', 'funding_text'],\n",
       "      dtype='object')"
      ]
     },
     "execution_count": 18,
     "metadata": {},
     "output_type": "execute_result"
    }
   ],
   "source": [
    "ctf_hackathon_doc.columns"
   ]
  },
  {
   "cell_type": "code",
   "execution_count": 19,
   "metadata": {},
   "outputs": [
    {
     "data": {
      "text/plain": [
       "(5702, 15)"
      ]
     },
     "execution_count": 19,
     "metadata": {},
     "output_type": "execute_result"
    }
   ],
   "source": [
    "ctf_hackathon_doc.shape"
   ]
  },
  {
   "cell_type": "code",
   "execution_count": 20,
   "metadata": {},
   "outputs": [
    {
     "data": {
      "text/plain": [
       "5129"
      ]
     },
     "execution_count": 20,
     "metadata": {},
     "output_type": "execute_result"
    }
   ],
   "source": [
    "len(ctf_hackathon_doc.doi.unique())"
   ]
  },
  {
   "cell_type": "code",
   "execution_count": 25,
   "metadata": {},
   "outputs": [],
   "source": [
    "with open('../data/HACKXML0000000004/dataset.xml', 'r') as f: \n",
    "    papers_info = f.read() \n",
    "papers_info_data = BeautifulSoup(papers_info, \"xml\") "
   ]
  },
  {
   "cell_type": "code",
   "execution_count": 26,
   "metadata": {},
   "outputs": [
    {
     "data": {
      "text/plain": [
       "array(['aid', 'article-number', 'collection-title', 'dataset',\n",
       "       'dataset-action', 'dataset-content', 'dataset-properties',\n",
       "       'dataset-unique-ids', 'delayed-sponsored-article', 'doi',\n",
       "       'dtd-version', 'embargo', 'files-info', 'filesize',\n",
       "       'funding-body-id', 'issn', 'jid', 'jid-aid', 'journal-item',\n",
       "       'journal-item-properties', 'journal-item-unique-ids', 'ml',\n",
       "       'online-publication-date', 'pathname', 'pii', 'pit',\n",
       "       'production-process', 'production-type', 'profile-code',\n",
       "       'profile-dataset-id', 'purpose', 'sponsored-access', 'stage',\n",
       "       'timestamp', 'type', 'version', 'version-number', 'weight'],\n",
       "      dtype='<U25')"
      ]
     },
     "execution_count": 26,
     "metadata": {},
     "output_type": "execute_result"
    }
   ],
   "source": [
    "np.unique([tag.name for tag in papers_info_data.find_all()])"
   ]
  },
  {
   "cell_type": "code",
   "execution_count": 27,
   "metadata": {},
   "outputs": [],
   "source": [
    "paper_xml_doi_ls = np.unique([t.getText() for t in papers_info_data.find_all('doi')])"
   ]
  },
  {
   "cell_type": "code",
   "execution_count": 28,
   "metadata": {},
   "outputs": [],
   "source": [
    "# other nf docs\n",
    "other_nfpaper_docs = ctf_hackathon_doc[~ctf_hackathon_doc.doi.isin(paper_xml_doi_ls)].copy()"
   ]
  },
  {
   "cell_type": "code",
   "execution_count": 29,
   "metadata": {},
   "outputs": [
    {
     "data": {
      "text/plain": [
       "(5440, 15)"
      ]
     },
     "execution_count": 29,
     "metadata": {},
     "output_type": "execute_result"
    }
   ],
   "source": [
    "other_nfpaper_docs.shape"
   ]
  },
  {
   "cell_type": "code",
   "execution_count": 38,
   "metadata": {},
   "outputs": [
    {
     "data": {
      "text/html": [
       "<div>\n",
       "<style scoped>\n",
       "    .dataframe tbody tr th:only-of-type {\n",
       "        vertical-align: middle;\n",
       "    }\n",
       "\n",
       "    .dataframe tbody tr th {\n",
       "        vertical-align: top;\n",
       "    }\n",
       "\n",
       "    .dataframe thead th {\n",
       "        text-align: right;\n",
       "    }\n",
       "</style>\n",
       "<table border=\"1\" class=\"dataframe\">\n",
       "  <thead>\n",
       "    <tr style=\"text-align: right;\">\n",
       "      <th></th>\n",
       "      <th>Eid</th>\n",
       "      <th>abstract</th>\n",
       "      <th>affiliation_organization</th>\n",
       "      <th>title</th>\n",
       "      <th>year</th>\n",
       "      <th>sourcetitle</th>\n",
       "      <th>issn_print</th>\n",
       "      <th>doi</th>\n",
       "      <th>openaccess</th>\n",
       "      <th>meta_language</th>\n",
       "      <th>References</th>\n",
       "      <th>pmid</th>\n",
       "      <th>publishername</th>\n",
       "      <th>keywords</th>\n",
       "      <th>funding_text</th>\n",
       "    </tr>\n",
       "  </thead>\n",
       "  <tbody>\n",
       "    <tr>\n",
       "      <th>2138</th>\n",
       "      <td>84872359373</td>\n",
       "      <td>Background context: An extraforaminal disc herniation may present as a retro...</td>\n",
       "      <td>[[Department of Neurologic Surgery, Mayo Clinic], [Department of Radiology, ...</td>\n",
       "      <td>L5-S1 extraforaminal intraneural disc herniation mimicking a malignant perip...</td>\n",
       "      <td>2012</td>\n",
       "      <td>Spine Journal</td>\n",
       "      <td>[15299430]</td>\n",
       "      <td>10.1016/j.spinee.2012.10.033</td>\n",
       "      <td>None</td>\n",
       "      <td>English</td>\n",
       "      <td>[Tarlov, I.M., , Spinal perineurial and meningeal cysts. (1970), Journal of ...</td>\n",
       "      <td>23246211.0</td>\n",
       "      <td>Elsevier Inc.</td>\n",
       "      <td>[Herniated disc, Lumbar, Malignant peripheral nerve sheath tumor, Retroperit...</td>\n",
       "      <td>NaN</td>\n",
       "    </tr>\n",
       "    <tr>\n",
       "      <th>3406</th>\n",
       "      <td>84897930288</td>\n",
       "      <td>Gastrointestinal stromal tumors (GIST) are the most common mesenchymatous ne...</td>\n",
       "      <td>[[Servicios de Genética, Hospital Provincial Neuquén], [Servicios de Oncolog...</td>\n",
       "      <td>Dysphagia, melanosis, gastrointestinal stromal tumors and a germinal mutatio...</td>\n",
       "      <td>2014</td>\n",
       "      <td>Acta Gastroenterologica Latinoamericana</td>\n",
       "      <td>[03009033]</td>\n",
       "      <td>NaN</td>\n",
       "      <td>NaN</td>\n",
       "      <td>English</td>\n",
       "      <td>[Beghini, A., Tibiletti, M., Roversi, G., Chiaravalli, A., Serio, G., Capell...</td>\n",
       "      <td>24847623.0</td>\n",
       "      <td>Sociedad Argentina de Gastroenterologia</td>\n",
       "      <td>[Dysphagia, GIST, KIT]</td>\n",
       "      <td>NaN</td>\n",
       "    </tr>\n",
       "    <tr>\n",
       "      <th>3995</th>\n",
       "      <td>85076330369</td>\n",
       "      <td>Background Neurofibromatosis type 1 (NF1) is a rare genetic disorder with us...</td>\n",
       "      <td>[[Department of Psychology, University of Oslo], [Frambu Resource Centre for...</td>\n",
       "      <td>Health complaints and work experiences among adults with neurofibromatosis 1</td>\n",
       "      <td>2019</td>\n",
       "      <td>Occupational Medicine</td>\n",
       "      <td>[09627480]</td>\n",
       "      <td>10.1093/occmed/kqz134</td>\n",
       "      <td>None</td>\n",
       "      <td>English</td>\n",
       "      <td>[Abramowicz, A., Gos, M., , Neurofibromin in neurofibromatosis type 1 - muta...</td>\n",
       "      <td>31674646.0</td>\n",
       "      <td>Oxford University Press</td>\n",
       "      <td>[Disability, NF1, Neurofibromatosis type 1, Rare disorders, Subjective healt...</td>\n",
       "      <td>NaN</td>\n",
       "    </tr>\n",
       "    <tr>\n",
       "      <th>3827</th>\n",
       "      <td>84923699181</td>\n",
       "      <td>Summary: Malignant peripheral nerve sheath tumour (MPNST) is a rare variety ...</td>\n",
       "      <td>[[Department of Radiation Oncology, Dr BRA Institute Rotary Cancer Hospital,...</td>\n",
       "      <td>Malignant peripheral nerve sheath tumour of penis</td>\n",
       "      <td>2015</td>\n",
       "      <td>Andrologia</td>\n",
       "      <td>[03034569]</td>\n",
       "      <td>10.1111/and.12267</td>\n",
       "      <td>None</td>\n",
       "      <td>English</td>\n",
       "      <td>[Mortell, A., Amjad, B., Breatnach, F., Devaney, D., Puri, P., , Penile mali...</td>\n",
       "      <td>24635732.0</td>\n",
       "      <td>Blackwell Publishing Ltd</td>\n",
       "      <td>[Malignant peripheral nerve sheath tumour, Multimodality, Penis, Treatment]</td>\n",
       "      <td>NaN</td>\n",
       "    </tr>\n",
       "    <tr>\n",
       "      <th>1843</th>\n",
       "      <td>84925385178</td>\n",
       "      <td>We present the first case of pediatric intracranial Mycobacterium abscessus ...</td>\n",
       "      <td>[[Department of Pediatrics, Georgia Regents University, University of Georgi...</td>\n",
       "      <td>Intracranial Mycobacterium abscessus infection in a healthy toddler</td>\n",
       "      <td>2015</td>\n",
       "      <td>Journal of Pediatric Infectious Diseases</td>\n",
       "      <td>[13057707]</td>\n",
       "      <td>10.1097/INF.0000000000000520</td>\n",
       "      <td>None</td>\n",
       "      <td>English</td>\n",
       "      <td>[Kiliç, S., Tezcan, I., Sanal, O., Ersoy, F., , Common variable immunodefici...</td>\n",
       "      <td>25144796.0</td>\n",
       "      <td>IOS Press</td>\n",
       "      <td>[Brain/pathology, Female, Humans, M. Abscessus, Mycobacterium infections/mic...</td>\n",
       "      <td>NaN</td>\n",
       "    </tr>\n",
       "  </tbody>\n",
       "</table>\n",
       "</div>"
      ],
      "text/plain": [
       "              Eid  \\\n",
       "2138  84872359373   \n",
       "3406  84897930288   \n",
       "3995  85076330369   \n",
       "3827  84923699181   \n",
       "1843  84925385178   \n",
       "\n",
       "                                                                             abstract  \\\n",
       "2138  Background context: An extraforaminal disc herniation may present as a retro...   \n",
       "3406  Gastrointestinal stromal tumors (GIST) are the most common mesenchymatous ne...   \n",
       "3995  Background Neurofibromatosis type 1 (NF1) is a rare genetic disorder with us...   \n",
       "3827  Summary: Malignant peripheral nerve sheath tumour (MPNST) is a rare variety ...   \n",
       "1843  We present the first case of pediatric intracranial Mycobacterium abscessus ...   \n",
       "\n",
       "                                                             affiliation_organization  \\\n",
       "2138  [[Department of Neurologic Surgery, Mayo Clinic], [Department of Radiology, ...   \n",
       "3406  [[Servicios de Genética, Hospital Provincial Neuquén], [Servicios de Oncolog...   \n",
       "3995  [[Department of Psychology, University of Oslo], [Frambu Resource Centre for...   \n",
       "3827  [[Department of Radiation Oncology, Dr BRA Institute Rotary Cancer Hospital,...   \n",
       "1843  [[Department of Pediatrics, Georgia Regents University, University of Georgi...   \n",
       "\n",
       "                                                                                title  \\\n",
       "2138  L5-S1 extraforaminal intraneural disc herniation mimicking a malignant perip...   \n",
       "3406  Dysphagia, melanosis, gastrointestinal stromal tumors and a germinal mutatio...   \n",
       "3995     Health complaints and work experiences among adults with neurofibromatosis 1   \n",
       "3827                                Malignant peripheral nerve sheath tumour of penis   \n",
       "1843              Intracranial Mycobacterium abscessus infection in a healthy toddler   \n",
       "\n",
       "      year                               sourcetitle  issn_print  \\\n",
       "2138  2012                             Spine Journal  [15299430]   \n",
       "3406  2014   Acta Gastroenterologica Latinoamericana  [03009033]   \n",
       "3995  2019                     Occupational Medicine  [09627480]   \n",
       "3827  2015                                Andrologia  [03034569]   \n",
       "1843  2015  Journal of Pediatric Infectious Diseases  [13057707]   \n",
       "\n",
       "                               doi openaccess meta_language  \\\n",
       "2138  10.1016/j.spinee.2012.10.033       None       English   \n",
       "3406                           NaN        NaN       English   \n",
       "3995         10.1093/occmed/kqz134       None       English   \n",
       "3827             10.1111/and.12267       None       English   \n",
       "1843  10.1097/INF.0000000000000520       None       English   \n",
       "\n",
       "                                                                           References  \\\n",
       "2138  [Tarlov, I.M., , Spinal perineurial and meningeal cysts. (1970), Journal of ...   \n",
       "3406  [Beghini, A., Tibiletti, M., Roversi, G., Chiaravalli, A., Serio, G., Capell...   \n",
       "3995  [Abramowicz, A., Gos, M., , Neurofibromin in neurofibromatosis type 1 - muta...   \n",
       "3827  [Mortell, A., Amjad, B., Breatnach, F., Devaney, D., Puri, P., , Penile mali...   \n",
       "1843  [Kiliç, S., Tezcan, I., Sanal, O., Ersoy, F., , Common variable immunodefici...   \n",
       "\n",
       "            pmid                            publishername  \\\n",
       "2138  23246211.0                            Elsevier Inc.   \n",
       "3406  24847623.0  Sociedad Argentina de Gastroenterologia   \n",
       "3995  31674646.0                  Oxford University Press   \n",
       "3827  24635732.0                 Blackwell Publishing Ltd   \n",
       "1843  25144796.0                                IOS Press   \n",
       "\n",
       "                                                                             keywords  \\\n",
       "2138  [Herniated disc, Lumbar, Malignant peripheral nerve sheath tumor, Retroperit...   \n",
       "3406                                                           [Dysphagia, GIST, KIT]   \n",
       "3995  [Disability, NF1, Neurofibromatosis type 1, Rare disorders, Subjective healt...   \n",
       "3827      [Malignant peripheral nerve sheath tumour, Multimodality, Penis, Treatment]   \n",
       "1843  [Brain/pathology, Female, Humans, M. Abscessus, Mycobacterium infections/mic...   \n",
       "\n",
       "     funding_text  \n",
       "2138          NaN  \n",
       "3406          NaN  \n",
       "3995          NaN  \n",
       "3827          NaN  \n",
       "1843          NaN  "
      ]
     },
     "execution_count": 38,
     "metadata": {},
     "output_type": "execute_result"
    }
   ],
   "source": [
    "other_nfpaper_docs.sample(5)"
   ]
  },
  {
   "cell_type": "code",
   "execution_count": 40,
   "metadata": {},
   "outputs": [],
   "source": [
    "other_nfpaper_docs_dicts = []\n",
    "for i, row in other_nfpaper_docs.iterrows():\n",
    "    temp = {}\n",
    "    if isinstance(row['abstract'], str):\n",
    "        temp['text'] = row['abstract']\n",
    "        temp['meta'] = {}\n",
    "        temp['meta']['title'] = row['title']\n",
    "        temp['meta']['doi'] = row['doi'] if isinstance(row['doi'], str) else ''\n",
    "        #temp['meta']['References'] = ', '.join(row['References']) if isinstance(row['References'], list) else ''\n",
    "        temp['meta']['keywords'] = ' '.join(row['keywords']) if isinstance(row['keywords'], list) and len(row['keywords'])>0 else ''\n",
    "        other_nfpaper_docs_dicts.append(temp)"
   ]
  },
  {
   "cell_type": "code",
   "execution_count": 41,
   "metadata": {},
   "outputs": [
    {
     "data": {
      "text/plain": [
       "5018"
      ]
     },
     "execution_count": 41,
     "metadata": {},
     "output_type": "execute_result"
    }
   ],
   "source": [
    "len(other_nfpaper_docs_dicts)"
   ]
  },
  {
   "cell_type": "code",
   "execution_count": 42,
   "metadata": {},
   "outputs": [
    {
     "data": {
      "text/plain": [
       "{'text': \"Introduction. Neurofibromatosis type 1 is an autosomal dominant disorder that occurs across all ethnic groups and affects approximately one in 4000 individuals. One of the most noticeable characteristics of the disease is the development of neurofibromas. Case presentation. A total of 258 patients (131 women, 127 men) with neurofibromatosis type 1 were evaluated between 1994 and 2004 in our hospital's dermatology department. Nine patients (3.45%, 95% confidence limits 1.22 to 5.68) had neurofibromas of the breast. One of these nine patients presented with an extensive congenital plexiform neurofibroma in the outer quadrants of her right breast, extending to the nipple-areolar complex. Meanwhile, three patients had more than one neurofibroma on the nipple-areolar complexes. Three patients had a family history of neurofibroma. Over the years 1994 to 2004, the cutaneous lesions were not associated with any malignancies. Presenting symptoms were related to conditions such as increasing size of the mass, and associated loss of function and pain. Conclusions. This study suggests that the changes are limited to particular subgroups. That neurofibromatosis is more prevalent in women (7 women and 2 men) suggests that being female could be a susceptibility factor for the development of neurofibromas of the nipple-areolar complexes. There are few reports in the literature describing breast carcinomas in association with von Recklinghausen disease. It has been speculated that the presence of multiple neurofibromas of the breast may obscure a breast mass at palpation, leading to a delay in clinical detection. We suggest that patients with neurofibromas of the breast have more rigorous clinical and mammographic screening of the breast during adulthood to determine the presence or absence of malignancies. The finding that both the neurofibromatosis type 1 gene and a breast cancer predisposition gene are located in close proximity on chromosome 17q makes the association of these two conditions intriguing. © 2010 Rita et al; licensee BioMed Central Ltd.\",\n",
       " 'meta': {'title': 'Neurofibromatosis of the nipple-areolar area: A case series',\n",
       "  'doi': '10.1186/1752-1947-4-22',\n",
       "  'keywords': ''}}"
      ]
     },
     "execution_count": 42,
     "metadata": {},
     "output_type": "execute_result"
    }
   ],
   "source": [
    "other_nfpaper_docs_dicts[0]"
   ]
  },
  {
   "cell_type": "code",
   "execution_count": 43,
   "metadata": {},
   "outputs": [
    {
     "name": "stderr",
     "output_type": "stream",
     "text": [
      "11/07/2020 16:55:09 - INFO - elasticsearch -   POST http://localhost:9200/document/_count [status:200 request:0.088s]\n"
     ]
    },
    {
     "data": {
      "text/plain": [
       "262"
      ]
     },
     "execution_count": 43,
     "metadata": {},
     "output_type": "execute_result"
    }
   ],
   "source": [
    "document_store.get_document_count()"
   ]
  },
  {
   "cell_type": "code",
   "execution_count": 44,
   "metadata": {},
   "outputs": [
    {
     "name": "stderr",
     "output_type": "stream",
     "text": [
      "11/07/2020 16:55:13 - INFO - elasticsearch -   POST http://localhost:9200/_bulk?refresh=wait_for [status:200 request:1.117s]\n",
      "11/07/2020 16:55:14 - INFO - elasticsearch -   POST http://localhost:9200/_bulk?refresh=wait_for [status:200 request:1.006s]\n",
      "11/07/2020 16:55:15 - INFO - elasticsearch -   POST http://localhost:9200/_bulk?refresh=wait_for [status:200 request:1.020s]\n",
      "11/07/2020 16:55:17 - INFO - elasticsearch -   POST http://localhost:9200/_bulk?refresh=wait_for [status:200 request:1.029s]\n",
      "11/07/2020 16:55:18 - INFO - elasticsearch -   POST http://localhost:9200/_bulk?refresh=wait_for [status:200 request:1.026s]\n",
      "11/07/2020 16:55:19 - INFO - elasticsearch -   POST http://localhost:9200/_bulk?refresh=wait_for [status:200 request:1.021s]\n",
      "11/07/2020 16:55:20 - INFO - elasticsearch -   POST http://localhost:9200/_bulk?refresh=wait_for [status:200 request:1.029s]\n",
      "11/07/2020 16:55:21 - INFO - elasticsearch -   POST http://localhost:9200/_bulk?refresh=wait_for [status:200 request:1.021s]\n",
      "11/07/2020 16:55:22 - INFO - elasticsearch -   POST http://localhost:9200/_bulk?refresh=wait_for [status:200 request:1.034s]\n",
      "11/07/2020 16:55:23 - INFO - elasticsearch -   POST http://localhost:9200/_bulk?refresh=wait_for [status:200 request:0.987s]\n",
      "11/07/2020 16:55:24 - INFO - elasticsearch -   POST http://localhost:9200/_bulk?refresh=wait_for [status:200 request:1.055s]\n"
     ]
    }
   ],
   "source": [
    "document_store.write_documents(other_nfpaper_docs_dicts)"
   ]
  },
  {
   "cell_type": "code",
   "execution_count": 45,
   "metadata": {},
   "outputs": [
    {
     "name": "stderr",
     "output_type": "stream",
     "text": [
      "11/07/2020 16:55:24 - INFO - elasticsearch -   POST http://localhost:9200/document/_count [status:200 request:0.007s]\n"
     ]
    },
    {
     "data": {
      "text/plain": [
       "5280"
      ]
     },
     "execution_count": 45,
     "metadata": {},
     "output_type": "execute_result"
    }
   ],
   "source": [
    "document_store.get_document_count()"
   ]
  },
  {
   "cell_type": "code",
   "execution_count": 46,
   "metadata": {},
   "outputs": [
    {
     "data": {
      "text/plain": [
       "2528    We report a case of synchronous multiple colon adenocarcinomas in a patient ...\n",
       "5481                                                                                NaN\n",
       "4221    Neurofibromin regulates cell motility via three distinct GTPase pathways act...\n",
       "4120    Optic pathway gliomas (OPGs) occur in 1520 of children with neurofibromatosi...\n",
       "Name: abstract, dtype: object"
      ]
     },
     "execution_count": 46,
     "metadata": {},
     "output_type": "execute_result"
    }
   ],
   "source": [
    "other_nfpaper_docs.sample(4)['abstract']"
   ]
  },
  {
   "cell_type": "code",
   "execution_count": 47,
   "metadata": {},
   "outputs": [
    {
     "name": "stderr",
     "output_type": "stream",
     "text": [
      "11/07/2020 16:55:46 - INFO - elasticsearch -   POST http://localhost:9200/document/_search [status:200 request:0.031s]\n",
      "11/07/2020 16:55:46 - INFO - haystack.retriever.sparse -   Got 10 candidates from retriever\n",
      "11/07/2020 16:55:46 - INFO - haystack.finder -   Reader is looking for detailed answer in 12810 chars ...\n",
      "Inferencing Samples: 100%|██████████| 1/1 [00:03<00:00,  3.20s/ Batches]\n",
      "Inferencing Samples: 100%|██████████| 1/1 [00:01<00:00,  1.74s/ Batches]\n",
      "Inferencing Samples: 100%|██████████| 1/1 [00:01<00:00,  1.19s/ Batches]\n",
      "Inferencing Samples: 100%|██████████| 1/1 [00:01<00:00,  1.70s/ Batches]\n",
      "Inferencing Samples: 100%|██████████| 1/1 [00:01<00:00,  1.17s/ Batches]\n",
      "Inferencing Samples: 100%|██████████| 1/1 [00:01<00:00,  1.67s/ Batches]\n",
      "Inferencing Samples: 100%|██████████| 1/1 [00:00<00:00,  1.72 Batches/s]\n",
      "Inferencing Samples: 100%|██████████| 1/1 [00:01<00:00,  1.66s/ Batches]\n",
      "Inferencing Samples: 100%|██████████| 1/1 [00:00<00:00,  1.71 Batches/s]\n",
      "Inferencing Samples: 100%|██████████| 1/1 [00:01<00:00,  1.73s/ Batches]\n"
     ]
    }
   ],
   "source": [
    "%timeit\n",
    "prediction = finder.get_answers(question=\"Will NF1 turn into NF2\", top_k_retriever=10, top_k_reader=5)"
   ]
  },
  {
   "cell_type": "code",
   "execution_count": 102,
   "metadata": {},
   "outputs": [
    {
     "name": "stdout",
     "output_type": "stream",
     "text": [
      "[   {   'answer': 'There is no targeted drug therapy',\n",
      "        'context': ' Purpose: There is no targeted drug therapy for NF2 '\n",
      "                   'patients, and surgery or radiosurgery is not always '\n",
      "                   'effective. Therefore, the exploration of new t'},\n",
      "    {   'answer': 'This will generate new ideas about the biological '\n",
      "                  'mechanisms involved in autism, which in turn may provide '\n",
      "                  'new leads for the development of novel pharmaceutical '\n",
      "                  'compounds.',\n",
      "        'context': ' This will generate new ideas about the biological '\n",
      "                   'mechanisms involved in autism, which in turn may provide '\n",
      "                   'new leads for the development of novel pharmaceutical '\n",
      "                   'compounds.'},\n",
      "    {   'answer': 'neurofibromatosis type 2',\n",
      "        'context': ' and researchers interested in neurofibromatosis type 1 '\n",
      "                   '(NF1), neurofibromatosis type 2 (NF2), and schwannomatosis '\n",
      "                   '(SWN). The 2016 edition constituted'},\n",
      "    {   'answer': 'development of NF2 or SWN associated schwannomas',\n",
      "        'context': 'ding the musculoskeletal abnormalities in NF1, the '\n",
      "                   'development of NF2 or SWN associated schwannomas, and '\n",
      "                   'clarifying the cells that give rise to NF1-as'},\n",
      "    {   'answer': 'NF2-associated schwannoma cells induced monocytes '\n",
      "                  'transformation into an HLA-DR − CD33 + CD11b + phenotype',\n",
      "        'context': 'ry T cells phenotype. NF2-associated schwannoma cells '\n",
      "                   'induced monocytes transformation into an HLA-DR − CD33 + '\n",
      "                   'CD11b + phenotype, and surgical removal'}]\n"
     ]
    }
   ],
   "source": [
    "print_answers(prediction, details=\"minimal\")"
   ]
  },
  {
   "cell_type": "markdown",
   "metadata": {},
   "source": [
    "## Compiled PDF docs from the NF Registry website"
   ]
  },
  {
   "cell_type": "code",
   "execution_count": 3,
   "metadata": {},
   "outputs": [
    {
     "name": "stderr",
     "output_type": "stream",
     "text": [
      "11/07/2020 17:24:07 - INFO - elasticsearch -   POST http://localhost:9200/document/_count [status:200 request:0.025s]\n"
     ]
    },
    {
     "data": {
      "text/plain": [
       "5280"
      ]
     },
     "execution_count": 3,
     "metadata": {},
     "output_type": "execute_result"
    }
   ],
   "source": [
    "document_store.get_document_count()"
   ]
  },
  {
   "cell_type": "code",
   "execution_count": 4,
   "metadata": {},
   "outputs": [
    {
     "name": "stderr",
     "output_type": "stream",
     "text": [
      "11/07/2020 17:24:13 - INFO - haystack.preprocessor.utils -   Converting ../data/nf_info_pdfs/Genetics of NF - Children-s Tumor Foundation.pdf\n",
      "11/07/2020 17:24:13 - INFO - haystack.preprocessor.utils -   Converting ../data/nf_info_pdfs/Schwannomatosis - Children-s Tumor Foundation.pdf\n",
      "11/07/2020 17:24:13 - INFO - haystack.preprocessor.utils -   Converting ../data/nf_info_pdfs/CTF_About_NF2_Info_Sheet-2019.pdf\n",
      "11/07/2020 17:24:13 - INFO - haystack.preprocessor.utils -   Converting ../data/nf_info_pdfs/NF1 - Children-s Tumor Foundation.pdf\n",
      "11/07/2020 17:24:13 - INFO - haystack.preprocessor.utils -   Converting ../data/nf_info_pdfs/About_NF_120315.pdf\n",
      "11/07/2020 17:24:13 - INFO - haystack.preprocessor.utils -   Converting ../data/nf_info_pdfs/NF2 - Children-s Tumor Foundation.pdf\n",
      "11/07/2020 17:24:13 - INFO - haystack.preprocessor.utils -   Converting ../data/nf_info_pdfs/About_Schwannomatosis_Fact_Sheet_2020-2.pdf\n"
     ]
    }
   ],
   "source": [
    "pdf_dicts = convert_files_to_dicts(dir_path='../data/nf_info_pdfs/', split_paragraphs=True)"
   ]
  },
  {
   "cell_type": "code",
   "execution_count": 5,
   "metadata": {},
   "outputs": [],
   "source": [
    "for p in pdf_dicts:\n",
    "    p['text'] = re.sub(r'For more information on.*', '', ' '.join(p['text'].split('\\n')))"
   ]
  },
  {
   "cell_type": "code",
   "execution_count": 6,
   "metadata": {},
   "outputs": [],
   "source": [
    "pdf_docs = [p for p in pdf_dicts if not p['text'].startswith('Help end NF by joining the confidential NF Registry') and len(p['text'])>50]"
   ]
  },
  {
   "cell_type": "code",
   "execution_count": 7,
   "metadata": {},
   "outputs": [
    {
     "data": {
      "text/plain": [
       "7"
      ]
     },
     "execution_count": 7,
     "metadata": {},
     "output_type": "execute_result"
    }
   ],
   "source": [
    "len(pdf_docs)"
   ]
  },
  {
   "cell_type": "code",
   "execution_count": 13,
   "metadata": {},
   "outputs": [
    {
     "name": "stderr",
     "output_type": "stream",
     "text": [
      "11/07/2020 17:32:15 - INFO - elasticsearch -   POST http://localhost:9200/_bulk?refresh=wait_for [status:200 request:0.119s]\n"
     ]
    }
   ],
   "source": [
    "document_store.write_documents(pdf_docs)"
   ]
  },
  {
   "cell_type": "code",
   "execution_count": 14,
   "metadata": {},
   "outputs": [
    {
     "name": "stderr",
     "output_type": "stream",
     "text": [
      "11/07/2020 17:32:25 - INFO - elasticsearch -   POST http://localhost:9200/document/_count [status:200 request:0.007s]\n"
     ]
    },
    {
     "data": {
      "text/plain": [
       "5287"
      ]
     },
     "execution_count": 14,
     "metadata": {},
     "output_type": "execute_result"
    }
   ],
   "source": [
    "document_store.get_document_count()"
   ]
  },
  {
   "cell_type": "code",
   "execution_count": 43,
   "metadata": {},
   "outputs": [],
   "source": [
    "nfregistry_docs = pd.DataFrame.from_dict(pdf_docs)\n",
    "nfregistry_docs['document_identifie'] = nfregistry_docs['meta'].map(lambda x:x['name'].replace('.pdf', ''))\n",
    "nfregistry_docs.rename(columns = {'text': 'document_text'}, inplace = True)\n",
    "nfregistry_docs.drop(columns = 'meta', inplace=True)"
   ]
  },
  {
   "cell_type": "code",
   "execution_count": 44,
   "metadata": {},
   "outputs": [
    {
     "data": {
      "text/html": [
       "<div>\n",
       "<style scoped>\n",
       "    .dataframe tbody tr th:only-of-type {\n",
       "        vertical-align: middle;\n",
       "    }\n",
       "\n",
       "    .dataframe tbody tr th {\n",
       "        vertical-align: top;\n",
       "    }\n",
       "\n",
       "    .dataframe thead th {\n",
       "        text-align: right;\n",
       "    }\n",
       "</style>\n",
       "<table border=\"1\" class=\"dataframe\">\n",
       "  <thead>\n",
       "    <tr style=\"text-align: right;\">\n",
       "      <th></th>\n",
       "      <th>document_text</th>\n",
       "      <th>document_identifie</th>\n",
       "    </tr>\n",
       "  </thead>\n",
       "  <tbody>\n",
       "    <tr>\n",
       "      <th>0</th>\n",
       "      <td>Genetics of NF NF can occur in any family. Affected individuals can inhe fro...</td>\n",
       "      <td>Genetics of NF - Children-s Tumor Foundation</td>\n",
       "    </tr>\n",
       "    <tr>\n",
       "      <th>1</th>\n",
       "      <td>Children's Tumor Foundat About Schwannomatosis Neurofibromatosis, also known...</td>\n",
       "      <td>Schwannomatosis - Children-s Tumor Foundation</td>\n",
       "    </tr>\n",
       "    <tr>\n",
       "      <th>2</th>\n",
       "      <td>ABOUT NEUROFIBROMATOSIS TYPE 2 (NF2)  Neurofibromatosis, or NF, is an under-...</td>\n",
       "      <td>CTF_About_NF2_Info_Sheet-2019</td>\n",
       "    </tr>\n",
       "    <tr>\n",
       "      <th>3</th>\n",
       "      <td>Children's Tumor Foundation About NF1 Neurofibromatosis, also known as NF, i...</td>\n",
       "      <td>NF1 - Children-s Tumor Foundation</td>\n",
       "    </tr>\n",
       "    <tr>\n",
       "      <th>4</th>\n",
       "      <td>N eurofibromatosis, or NF, is an under-recognized genetic disorder that can...</td>\n",
       "      <td>About_NF_120315</td>\n",
       "    </tr>\n",
       "    <tr>\n",
       "      <th>5</th>\n",
       "      <td>Common Signs of NF2 The appearance of the most common signs of NF2 usually v...</td>\n",
       "      <td>NF2 - Children-s Tumor Foundation</td>\n",
       "    </tr>\n",
       "    <tr>\n",
       "      <th>6</th>\n",
       "      <td>ABOUT SCHWANNOMATOSIS  Neurofibromatosis, or NF, is an under-recognized gene...</td>\n",
       "      <td>About_Schwannomatosis_Fact_Sheet_2020-2</td>\n",
       "    </tr>\n",
       "  </tbody>\n",
       "</table>\n",
       "</div>"
      ],
      "text/plain": [
       "                                                                     document_text  \\\n",
       "0  Genetics of NF NF can occur in any family. Affected individuals can inhe fro...   \n",
       "1  Children's Tumor Foundat About Schwannomatosis Neurofibromatosis, also known...   \n",
       "2  ABOUT NEUROFIBROMATOSIS TYPE 2 (NF2)  Neurofibromatosis, or NF, is an under-...   \n",
       "3  Children's Tumor Foundation About NF1 Neurofibromatosis, also known as NF, i...   \n",
       "4   N eurofibromatosis, or NF, is an under-recognized genetic disorder that can...   \n",
       "5  Common Signs of NF2 The appearance of the most common signs of NF2 usually v...   \n",
       "6  ABOUT SCHWANNOMATOSIS  Neurofibromatosis, or NF, is an under-recognized gene...   \n",
       "\n",
       "                              document_identifie  \n",
       "0   Genetics of NF - Children-s Tumor Foundation  \n",
       "1  Schwannomatosis - Children-s Tumor Foundation  \n",
       "2                  CTF_About_NF2_Info_Sheet-2019  \n",
       "3              NF1 - Children-s Tumor Foundation  \n",
       "4                                About_NF_120315  \n",
       "5              NF2 - Children-s Tumor Foundation  \n",
       "6        About_Schwannomatosis_Fact_Sheet_2020-2  "
      ]
     },
     "execution_count": 44,
     "metadata": {},
     "output_type": "execute_result"
    }
   ],
   "source": [
    "nfregistry_docs"
   ]
  },
  {
   "cell_type": "code",
   "execution_count": 45,
   "metadata": {},
   "outputs": [],
   "source": [
    "nfregistry_docs.to_csv('../data/nfregistry_docs/nfregistry_info.csv')"
   ]
  },
  {
   "cell_type": "markdown",
   "metadata": {},
   "source": [
    "## QA model validation "
   ]
  },
  {
   "cell_type": "code",
   "execution_count": 15,
   "metadata": {},
   "outputs": [
    {
     "name": "stderr",
     "output_type": "stream",
     "text": [
      "11/07/2020 17:33:08 - INFO - elasticsearch -   POST http://localhost:9200/document/_search [status:200 request:0.021s]\n",
      "11/07/2020 17:33:08 - INFO - haystack.finder -   Got 10 candidates from retriever\n",
      "11/07/2020 17:33:08 - INFO - haystack.finder -   Reader is looking for detailed answer in 18868 chars ...\n",
      "Inferencing Samples: 100%|██████████| 1/1 [00:01<00:00,  1.17s/ Batches]\n",
      "Inferencing Samples: 100%|██████████| 1/1 [00:02<00:00,  2.26s/ Batches]\n",
      "Inferencing Samples: 100%|██████████| 1/1 [00:01<00:00,  1.68s/ Batches]\n",
      "Inferencing Samples: 100%|██████████| 1/1 [00:01<00:00,  1.68s/ Batches]\n",
      "Inferencing Samples: 100%|██████████| 1/1 [00:01<00:00,  1.71s/ Batches]\n",
      "Inferencing Samples: 100%|██████████| 1/1 [00:00<00:00,  1.76 Batches/s]\n",
      "Inferencing Samples: 100%|██████████| 1/1 [00:06<00:00,  6.92s/ Batches]\n",
      "Inferencing Samples: 100%|██████████| 1/1 [00:00<00:00,  1.64 Batches/s]\n",
      "Inferencing Samples: 100%|██████████| 1/1 [00:01<00:00,  1.13s/ Batches]\n",
      "Inferencing Samples: 100%|██████████| 1/1 [00:00<00:00,  1.72 Batches/s]\n"
     ]
    }
   ],
   "source": [
    "prediction = finder.get_answers(question=\"how many types of NF\", top_k_retriever=10, top_k_reader=5)"
   ]
  },
  {
   "cell_type": "code",
   "execution_count": 16,
   "metadata": {},
   "outputs": [
    {
     "name": "stdout",
     "output_type": "stream",
     "text": [
      "[   {   'answer': 'three',\n",
      "        'context': 'NF, is a genetic disorde that affects 1 in every 3,000 '\n",
      "                   'people. There are three types NF: NF1, NF2, and '\n",
      "                   'schwannomatosis. Neurofibromatosis type (NF1), '},\n",
      "    {   'answer': 'two',\n",
      "        'context': 'l-dominant disease with an incidence of 1/3,000 in live '\n",
      "                   'births. There are two types of NF, NF 1 and NF 2, and NF 1 '\n",
      "                   'is the most common type. This study'},\n",
      "    {   'answer': 'two',\n",
      "        'context': 'al-dominant disease with an incidence of 1 in 3000 live '\n",
      "                   'births. There are two types of NF, NF 1 and NF 2, and NF 1 '\n",
      "                   'is the most common. This study repo'},\n",
      "    {   'answer': 'two or more neurofibromas of any type',\n",
      "        'context': ' or 15 mm or larg post-pubertal individuals) Presence of '\n",
      "                   'two or more neurofibromas of any type, or on more '\n",
      "                   'plexiform neurofibromas Freckling under the'},\n",
      "    {   'answer': 'two or more',\n",
      "        'context': 'sted below. In order to make a diagnosis of NF1, '\n",
      "                   'individual must have two or more of the following, provid '\n",
      "                   'that no other disease accounts for the find'}]\n"
     ]
    }
   ],
   "source": [
    "print_answers(prediction, details=\"minimal\")"
   ]
  },
  {
   "cell_type": "code",
   "execution_count": 141,
   "metadata": {},
   "outputs": [
    {
     "name": "stderr",
     "output_type": "stream",
     "text": [
      "10/13/2020 17:27:42 - INFO - elasticsearch -   POST http://localhost:9200/document/_search [status:200 request:0.095s]\n",
      "10/13/2020 17:27:42 - INFO - haystack.retriever.sparse -   Got 10 candidates from retriever\n",
      "10/13/2020 17:27:42 - INFO - haystack.finder -   Reader is looking for detailed answer in 17740 chars ...\n",
      "Inferencing Samples: 100%|██████████| 1/1 [00:00<00:00,  1.82 Batches/s]\n",
      "Inferencing Samples: 100%|██████████| 1/1 [00:00<00:00,  2.07 Batches/s]\n",
      "Inferencing Samples: 100%|██████████| 1/1 [00:00<00:00,  2.16 Batches/s]\n",
      "Inferencing Samples: 100%|██████████| 1/1 [00:00<00:00,  2.20 Batches/s]\n",
      "Inferencing Samples: 100%|██████████| 1/1 [00:00<00:00,  2.74 Batches/s]\n",
      "Inferencing Samples: 100%|██████████| 1/1 [00:01<00:00,  1.57s/ Batches]\n",
      "Inferencing Samples: 100%|██████████| 1/1 [00:00<00:00,  1.95 Batches/s]\n",
      "Inferencing Samples: 100%|██████████| 1/1 [00:02<00:00,  2.53s/ Batches]\n",
      "Inferencing Samples: 100%|██████████| 1/1 [00:00<00:00,  1.27 Batches/s]\n",
      "Inferencing Samples: 100%|██████████| 1/1 [00:00<00:00,  1.20 Batches/s]\n"
     ]
    }
   ],
   "source": [
    "prediction = finder.get_answers(question=\"what are some symtoms of NF2\", top_k_retriever=10, top_k_reader=5)"
   ]
  },
  {
   "cell_type": "code",
   "execution_count": 142,
   "metadata": {},
   "outputs": [
    {
     "name": "stdout",
     "output_type": "stream",
     "text": [
      "[   {   'answer': 'neurofibromatosis type 2',\n",
      "        'context': 'r: (1) a malignant peripheral nerve sheath tumour (MPNST); '\n",
      "                   '(2) neurofibromatosis type 2 (NF2); or (3) schwannomatosis '\n",
      "                   '(SWNTS). The progressively enlar'},\n",
      "    {   'answer': 'ocular, dermatological, and neurological symptoms',\n",
      "        'context': 'as, children with NF2 most frequently present with ocular, '\n",
      "                   'dermatological, and neurological symptoms. Arteriopathy, a '\n",
      "                   'well-established feature in neur'},\n",
      "    {   'answer': 'neurofibromatosis type 2',\n",
      "        'context': 'for preoperative planning. QUESTION 6 How should patients '\n",
      "                   'with neurofibromatosis type 2 (NF2) and vestibular '\n",
      "                   'schwannoma be imaged and over what follow'},\n",
      "    {   'answer': 'malformation of midline guideposts',\n",
      "        'context': ' and prevent ectopic Slit2 expression. Loss of Nf2 causes '\n",
      "                   'malformation of midline guideposts and Slit2 upregulation, '\n",
      "                   'resulting in callosal agenesis. S'},\n",
      "    {   'answer': 'neurofibromatosis',\n",
      "        'context': 'cases (two personal and one referred) of what is nowadays '\n",
      "                   'known as neurofibromatosis. Among these latter cases, '\n",
      "                   'there was a 35-year-old cattle-driver,'}]\n"
     ]
    }
   ],
   "source": [
    "print_answers(prediction, details=\"minimal\")"
   ]
  },
  {
   "cell_type": "code",
   "execution_count": 17,
   "metadata": {},
   "outputs": [
    {
     "name": "stderr",
     "output_type": "stream",
     "text": [
      "11/07/2020 17:34:24 - INFO - elasticsearch -   POST http://localhost:9200/document/_search [status:200 request:0.030s]\n",
      "11/07/2020 17:34:24 - INFO - haystack.finder -   Got 5 candidates from retriever\n",
      "11/07/2020 17:34:24 - INFO - haystack.finder -   Reader is looking for detailed answer in 7989 chars ...\n",
      "Inferencing Samples: 100%|██████████| 1/1 [00:01<00:00,  1.16s/ Batches]\n",
      "Inferencing Samples: 100%|██████████| 1/1 [00:01<00:00,  1.15s/ Batches]\n",
      "Inferencing Samples: 100%|██████████| 1/1 [00:01<00:00,  1.68s/ Batches]\n",
      "Inferencing Samples: 100%|██████████| 1/1 [00:01<00:00,  1.15s/ Batches]\n",
      "Inferencing Samples: 100%|██████████| 1/1 [00:01<00:00,  1.71s/ Batches]\n"
     ]
    }
   ],
   "source": [
    "prediction = finder.get_answers(question=\"how many mutations related to NF1\", top_k_retriever=5, top_k_reader=3)"
   ]
  },
  {
   "cell_type": "code",
   "execution_count": 18,
   "metadata": {},
   "outputs": [
    {
     "name": "stdout",
     "output_type": "stream",
     "text": [
      "[   {   'answer': 'very similar mutations',\n",
      "        'context': 'isease causing mutations.\" We show that the splicing '\n",
      "                   'outcome of very similar mutations can be very different '\n",
      "                   'due to variations in trans-acting factor('},\n",
      "    {   'answer': 'KRAS mutants that strongly interacted with and '\n",
      "                  'competitively inhibited NF1 drove wild-type RAS activation '\n",
      "                  'in an EGFR-independent manner, whereas KRASG13D',\n",
      "        'context': ' KRAS mutants that strongly interacted with and '\n",
      "                   'competitively inhibited NF1 drove wild-type RAS activation '\n",
      "                   'in an EGFR-independent manner, whereas KRASG13D'},\n",
      "    {   'answer': 'neurofibromatosis type 1',\n",
      "        'context': 'ts with tumours due to multiple endocrine neoplasia type 2 '\n",
      "                   'and neurofibromatosis type 1 (NF1) showed similar '\n",
      "                   'catecholamine metabolite and secretory pr'}]\n"
     ]
    }
   ],
   "source": [
    "print_answers(prediction, details=\"minimal\")"
   ]
  },
  {
   "cell_type": "code",
   "execution_count": 21,
   "metadata": {},
   "outputs": [
    {
     "name": "stderr",
     "output_type": "stream",
     "text": [
      "11/07/2020 17:35:30 - INFO - elasticsearch -   POST http://localhost:9200/document/_search [status:200 request:0.024s]\n",
      "11/07/2020 17:35:30 - INFO - haystack.finder -   Got 10 candidates from retriever\n",
      "11/07/2020 17:35:30 - INFO - haystack.finder -   Reader is looking for detailed answer in 15015 chars ...\n",
      "Inferencing Samples: 100%|██████████| 1/1 [00:00<00:00,  1.34 Batches/s]\n",
      "Inferencing Samples: 100%|██████████| 1/1 [00:01<00:00,  1.72s/ Batches]\n",
      "Inferencing Samples: 100%|██████████| 1/1 [00:01<00:00,  1.67s/ Batches]\n",
      "Inferencing Samples: 100%|██████████| 1/1 [00:01<00:00,  1.66s/ Batches]\n",
      "Inferencing Samples: 100%|██████████| 1/1 [00:01<00:00,  1.72s/ Batches]\n",
      "Inferencing Samples: 100%|██████████| 1/1 [00:00<00:00,  1.68 Batches/s]\n",
      "Inferencing Samples: 100%|██████████| 1/1 [00:01<00:00,  1.66s/ Batches]\n",
      "Inferencing Samples: 100%|██████████| 1/1 [00:01<00:00,  1.17s/ Batches]\n",
      "Inferencing Samples: 100%|██████████| 1/1 [00:01<00:00,  1.71s/ Batches]\n",
      "Inferencing Samples: 100%|██████████| 1/1 [00:01<00:00,  1.15s/ Batches]\n"
     ]
    }
   ],
   "source": [
    "prediction = finder.get_answers(question=\"what are the clinical manifestations for mutation Y489C in NF1 \", top_k_retriever=10, top_k_reader=5)"
   ]
  },
  {
   "cell_type": "code",
   "execution_count": 22,
   "metadata": {},
   "outputs": [
    {
     "name": "stdout",
     "output_type": "stream",
     "text": [
      "[   {   'answer': 'neurofibromas only and a combination of neurofibromas and '\n",
      "                  'pigmentary changes',\n",
      "        'context': 'linical manifestations are reported: neurofibromas only '\n",
      "                   'and a combination of neurofibromas and pigmentary changes. '\n",
      "                   'Segmental NF1 is an example of mosa'},\n",
      "    {   'answer': 'intracranial hypotension',\n",
      "        'context': ' They describe the clinical presentation and '\n",
      "                   'manifestations of intracranial hypotension, as well as the '\n",
      "                   'pertinent investigations. They also review the'},\n",
      "    {   'answer': 'also had bilateral pheochromocytomas and mucosal neuromas',\n",
      "        'context': 'was disease free after surgical resection. She also had '\n",
      "                   'bilateral pheochromocytomas and mucosal neuromas leading '\n",
      "                   'to the clinical diagnosis of MEN-2B. '},\n",
      "    {   'answer': 'café-au-lait macules and skinfold freckling',\n",
      "        'context': 'c criteria for neurofibromatosis type I (NF1) include '\n",
      "                   'café-au-lait macules and skinfold freckling. The former '\n",
      "                   'are frequently the earliest manifestatio'},\n",
      "    {   'answer': 'cafe au lait spots, Crowe sign (axillary and inguinal '\n",
      "                  'freckling), neurofibromas or Lish nodules within the eyes',\n",
      "        'context': 'ifestations such as cafe au lait spots, Crowe sign '\n",
      "                   '(axillary and inguinal freckling), neurofibromas or Lish '\n",
      "                   'nodules within the eyes. Existence of thos'}]\n"
     ]
    }
   ],
   "source": [
    "print_answers(prediction, details=\"minimal\")"
   ]
  },
  {
   "cell_type": "code",
   "execution_count": null,
   "metadata": {},
   "outputs": [],
   "source": []
  }
 ],
 "metadata": {
  "kernelspec": {
   "display_name": "Python 3",
   "language": "python",
   "name": "python3"
  },
  "language_info": {
   "codemirror_mode": {
    "name": "ipython",
    "version": 3
   },
   "file_extension": ".py",
   "mimetype": "text/x-python",
   "name": "python",
   "nbconvert_exporter": "python",
   "pygments_lexer": "ipython3",
   "version": "3.7.6"
  }
 },
 "nbformat": 4,
 "nbformat_minor": 4
}
