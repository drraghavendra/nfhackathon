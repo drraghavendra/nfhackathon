{
 "cells": [
  {
   "cell_type": "code",
   "execution_count": 1,
   "metadata": {},
   "outputs": [],
   "source": [
    "from soco_core.soco_client import SOCOClient"
   ]
  },
  {
   "cell_type": "code",
   "execution_count": 2,
   "metadata": {},
   "outputs": [],
   "source": [
    "import numpy as np\n",
    "import pandas as pd\n",
    "import json\n",
    "import glob\n",
    "import os\n",
    "from bs4 import BeautifulSoup "
   ]
  },
  {
   "cell_type": "code",
   "execution_count": 31,
   "metadata": {},
   "outputs": [],
   "source": [
    "all_files = glob.glob('../data/HACKXML0000000004/**/*.xml', recursive=True)"
   ]
  },
  {
   "cell_type": "code",
   "execution_count": 32,
   "metadata": {},
   "outputs": [
    {
     "data": {
      "text/plain": [
       "'../data/HACKXML0000000004/dataset.xml'"
      ]
     },
     "execution_count": 32,
     "metadata": {},
     "output_type": "execute_result"
    }
   ],
   "source": [
    "all_files[0]"
   ]
  },
  {
   "cell_type": "code",
   "execution_count": 33,
   "metadata": {},
   "outputs": [
    {
     "data": {
      "text/plain": [
       "'../data/HACKXML0000000004/S2210261214002144/main.xml'"
      ]
     },
     "execution_count": 33,
     "metadata": {},
     "output_type": "execute_result"
    }
   ],
   "source": [
    "all_files[1]"
   ]
  },
  {
   "cell_type": "code",
   "execution_count": 34,
   "metadata": {},
   "outputs": [
    {
     "data": {
      "text/plain": [
       "264"
      ]
     },
     "execution_count": 34,
     "metadata": {},
     "output_type": "execute_result"
    }
   ],
   "source": [
    "len(all_files)"
   ]
  },
  {
   "cell_type": "code",
   "execution_count": 11,
   "metadata": {},
   "outputs": [],
   "source": [
    "ctf_hackathon_doc = pd.read_json('../data/ctf-hackathon-upload.json', lines=True)"
   ]
  },
  {
   "cell_type": "code",
   "execution_count": 12,
   "metadata": {},
   "outputs": [
    {
     "data": {
      "text/html": [
       "<div>\n",
       "<style scoped>\n",
       "    .dataframe tbody tr th:only-of-type {\n",
       "        vertical-align: middle;\n",
       "    }\n",
       "\n",
       "    .dataframe tbody tr th {\n",
       "        vertical-align: top;\n",
       "    }\n",
       "\n",
       "    .dataframe thead th {\n",
       "        text-align: right;\n",
       "    }\n",
       "</style>\n",
       "<table border=\"1\" class=\"dataframe\">\n",
       "  <thead>\n",
       "    <tr style=\"text-align: right;\">\n",
       "      <th></th>\n",
       "      <th>Eid</th>\n",
       "      <th>abstract</th>\n",
       "      <th>affiliation_organization</th>\n",
       "      <th>title</th>\n",
       "      <th>year</th>\n",
       "      <th>sourcetitle</th>\n",
       "      <th>issn_print</th>\n",
       "      <th>doi</th>\n",
       "      <th>openaccess</th>\n",
       "      <th>meta_language</th>\n",
       "      <th>References</th>\n",
       "      <th>pmid</th>\n",
       "      <th>publishername</th>\n",
       "      <th>keywords</th>\n",
       "      <th>funding_text</th>\n",
       "    </tr>\n",
       "  </thead>\n",
       "  <tbody>\n",
       "    <tr>\n",
       "      <th>0</th>\n",
       "      <td>77249160236</td>\n",
       "      <td>Introduction. Neurofibromatosis type 1 is an a...</td>\n",
       "      <td>[[Department of Dermatology, University of Pal...</td>\n",
       "      <td>Neurofibromatosis of the nipple-areolar area: ...</td>\n",
       "      <td>2010</td>\n",
       "      <td>Journal of Medical Case Reports</td>\n",
       "      <td>[17521947]</td>\n",
       "      <td>10.1186/1752-1947-4-22</td>\n",
       "      <td>Full</td>\n",
       "      <td>English</td>\n",
       "      <td>[Fink, D., Schneider, C., Wight, E., Perucchin...</td>\n",
       "      <td>NaN</td>\n",
       "      <td>NaN</td>\n",
       "      <td>NaN</td>\n",
       "      <td>NaN</td>\n",
       "    </tr>\n",
       "    <tr>\n",
       "      <th>1</th>\n",
       "      <td>79952114987</td>\n",
       "      <td>To introduce operation skill of the spinal wed...</td>\n",
       "      <td>[[Department of Spinal Surgery, First Affiliat...</td>\n",
       "      <td>[Spinal wedge osteotomy by posterior approach ...</td>\n",
       "      <td>2010</td>\n",
       "      <td>Zhongguo xiu fu chong jian wai ke za zhi = Zho...</td>\n",
       "      <td>[10021892]</td>\n",
       "      <td>NaN</td>\n",
       "      <td>NaN</td>\n",
       "      <td>Chinese</td>\n",
       "      <td>NaN</td>\n",
       "      <td>20695392.0</td>\n",
       "      <td>NaN</td>\n",
       "      <td>NaN</td>\n",
       "      <td>NaN</td>\n",
       "    </tr>\n",
       "    <tr>\n",
       "      <th>2</th>\n",
       "      <td>79955067942</td>\n",
       "      <td>NaN</td>\n",
       "      <td>[[Department of Cardiology, AZ Sint Jan Hospit...</td>\n",
       "      <td>Multimodality imaging of cardiac involvement i...</td>\n",
       "      <td>2011</td>\n",
       "      <td>Journal of the American College of Cardiology</td>\n",
       "      <td>[07351097]</td>\n",
       "      <td>10.1016/j.jacc.2010.08.651</td>\n",
       "      <td>Full</td>\n",
       "      <td>English</td>\n",
       "      <td>NaN</td>\n",
       "      <td>21511107.0</td>\n",
       "      <td>Elsevier USA</td>\n",
       "      <td>NaN</td>\n",
       "      <td>NaN</td>\n",
       "    </tr>\n",
       "    <tr>\n",
       "      <th>3</th>\n",
       "      <td>80051905985</td>\n",
       "      <td>Malignant peripheral nerve sheath tumors accou...</td>\n",
       "      <td>[[Maxillo-Facial Surgery Division, Head and Ne...</td>\n",
       "      <td>Malignant peripheral nerve sheath tumor of the...</td>\n",
       "      <td>2011</td>\n",
       "      <td>Journal of Pediatric Surgery</td>\n",
       "      <td>[00223468]</td>\n",
       "      <td>10.1016/j.jpedsurg.2011.04.058</td>\n",
       "      <td>None</td>\n",
       "      <td>English</td>\n",
       "      <td>[Leroy, K., Dumas, V., Martin-Garcia, N., Falz...</td>\n",
       "      <td>NaN</td>\n",
       "      <td>W.B. Saunders</td>\n",
       "      <td>[MPNST vagus, Malignant peripheral nerve sheat...</td>\n",
       "      <td>NaN</td>\n",
       "    </tr>\n",
       "    <tr>\n",
       "      <th>4</th>\n",
       "      <td>80052211641</td>\n",
       "      <td>We report a 20-year-old man with cauda equina ...</td>\n",
       "      <td>[[Department of Physical Medicine and Rehabili...</td>\n",
       "      <td>Peripheral nerve involvement in a neurofibroma...</td>\n",
       "      <td>2011</td>\n",
       "      <td>Archives of Physical Medicine and Rehabilitation</td>\n",
       "      <td>[00039993]</td>\n",
       "      <td>10.1016/j.apmr.2011.04.011</td>\n",
       "      <td>None</td>\n",
       "      <td>English</td>\n",
       "      <td>[, , Neurofibromatosis: Conference Statement (...</td>\n",
       "      <td>21878222.0</td>\n",
       "      <td>NaN</td>\n",
       "      <td>[Case report, Cauda equina, Neurofibromatosis,...</td>\n",
       "      <td>NaN</td>\n",
       "    </tr>\n",
       "  </tbody>\n",
       "</table>\n",
       "</div>"
      ],
      "text/plain": [
       "           Eid                                           abstract  \\\n",
       "0  77249160236  Introduction. Neurofibromatosis type 1 is an a...   \n",
       "1  79952114987  To introduce operation skill of the spinal wed...   \n",
       "2  79955067942                                                NaN   \n",
       "3  80051905985  Malignant peripheral nerve sheath tumors accou...   \n",
       "4  80052211641  We report a 20-year-old man with cauda equina ...   \n",
       "\n",
       "                            affiliation_organization  \\\n",
       "0  [[Department of Dermatology, University of Pal...   \n",
       "1  [[Department of Spinal Surgery, First Affiliat...   \n",
       "2  [[Department of Cardiology, AZ Sint Jan Hospit...   \n",
       "3  [[Maxillo-Facial Surgery Division, Head and Ne...   \n",
       "4  [[Department of Physical Medicine and Rehabili...   \n",
       "\n",
       "                                               title  year  \\\n",
       "0  Neurofibromatosis of the nipple-areolar area: ...  2010   \n",
       "1  [Spinal wedge osteotomy by posterior approach ...  2010   \n",
       "2  Multimodality imaging of cardiac involvement i...  2011   \n",
       "3  Malignant peripheral nerve sheath tumor of the...  2011   \n",
       "4  Peripheral nerve involvement in a neurofibroma...  2011   \n",
       "\n",
       "                                         sourcetitle  issn_print  \\\n",
       "0                    Journal of Medical Case Reports  [17521947]   \n",
       "1  Zhongguo xiu fu chong jian wai ke za zhi = Zho...  [10021892]   \n",
       "2      Journal of the American College of Cardiology  [07351097]   \n",
       "3                       Journal of Pediatric Surgery  [00223468]   \n",
       "4   Archives of Physical Medicine and Rehabilitation  [00039993]   \n",
       "\n",
       "                              doi openaccess meta_language  \\\n",
       "0          10.1186/1752-1947-4-22       Full       English   \n",
       "1                             NaN        NaN       Chinese   \n",
       "2      10.1016/j.jacc.2010.08.651       Full       English   \n",
       "3  10.1016/j.jpedsurg.2011.04.058       None       English   \n",
       "4      10.1016/j.apmr.2011.04.011       None       English   \n",
       "\n",
       "                                          References        pmid  \\\n",
       "0  [Fink, D., Schneider, C., Wight, E., Perucchin...         NaN   \n",
       "1                                                NaN  20695392.0   \n",
       "2                                                NaN  21511107.0   \n",
       "3  [Leroy, K., Dumas, V., Martin-Garcia, N., Falz...         NaN   \n",
       "4  [, , Neurofibromatosis: Conference Statement (...  21878222.0   \n",
       "\n",
       "   publishername                                           keywords  \\\n",
       "0            NaN                                                NaN   \n",
       "1            NaN                                                NaN   \n",
       "2   Elsevier USA                                                NaN   \n",
       "3  W.B. Saunders  [MPNST vagus, Malignant peripheral nerve sheat...   \n",
       "4            NaN  [Case report, Cauda equina, Neurofibromatosis,...   \n",
       "\n",
       "  funding_text  \n",
       "0          NaN  \n",
       "1          NaN  \n",
       "2          NaN  \n",
       "3          NaN  \n",
       "4          NaN  "
      ]
     },
     "execution_count": 12,
     "metadata": {},
     "output_type": "execute_result"
    }
   ],
   "source": [
    "ctf_hackathon_doc.head()"
   ]
  },
  {
   "cell_type": "code",
   "execution_count": 54,
   "metadata": {},
   "outputs": [],
   "source": [
    "ctf_hackathon_doc['issn'] = ctf_hackathon_doc.issn_print.map(lambda x: x[0] if not pd.isna(x) else '')"
   ]
  },
  {
   "cell_type": "code",
   "execution_count": 61,
   "metadata": {},
   "outputs": [
    {
     "data": {
      "text/html": [
       "<div>\n",
       "<style scoped>\n",
       "    .dataframe tbody tr th:only-of-type {\n",
       "        vertical-align: middle;\n",
       "    }\n",
       "\n",
       "    .dataframe tbody tr th {\n",
       "        vertical-align: top;\n",
       "    }\n",
       "\n",
       "    .dataframe thead th {\n",
       "        text-align: right;\n",
       "    }\n",
       "</style>\n",
       "<table border=\"1\" class=\"dataframe\">\n",
       "  <thead>\n",
       "    <tr style=\"text-align: right;\">\n",
       "      <th></th>\n",
       "      <th>Eid</th>\n",
       "      <th>abstract</th>\n",
       "      <th>affiliation_organization</th>\n",
       "      <th>title</th>\n",
       "      <th>year</th>\n",
       "      <th>sourcetitle</th>\n",
       "      <th>issn_print</th>\n",
       "      <th>doi</th>\n",
       "      <th>openaccess</th>\n",
       "      <th>meta_language</th>\n",
       "      <th>References</th>\n",
       "      <th>pmid</th>\n",
       "      <th>publishername</th>\n",
       "      <th>keywords</th>\n",
       "      <th>funding_text</th>\n",
       "      <th>issn</th>\n",
       "    </tr>\n",
       "  </thead>\n",
       "  <tbody>\n",
       "    <tr>\n",
       "      <th>4034</th>\n",
       "      <td>84893225655</td>\n",
       "      <td>NaN</td>\n",
       "      <td>[[Centre de Biologie Pathologie, Pathology Dep...</td>\n",
       "      <td>The Case Peculiar fibrous nodules in a renal t...</td>\n",
       "      <td>2014</td>\n",
       "      <td>Kidney International</td>\n",
       "      <td>[00852538]</td>\n",
       "      <td>10.1038/ki.2013.360</td>\n",
       "      <td>Full</td>\n",
       "      <td>English</td>\n",
       "      <td>[Gökden, N., El Jamal, S., Gökden, M., Lamps, ...</td>\n",
       "      <td>24487375.0</td>\n",
       "      <td>Nature Publishing Group</td>\n",
       "      <td>NaN</td>\n",
       "      <td>NaN</td>\n",
       "      <td>00852538</td>\n",
       "    </tr>\n",
       "    <tr>\n",
       "      <th>4532</th>\n",
       "      <td>85072167588</td>\n",
       "      <td>NaN</td>\n",
       "      <td>[[Department of Pathology, University of Chica...</td>\n",
       "      <td>An incidental but pathognomonic finding in ren...</td>\n",
       "      <td>2019</td>\n",
       "      <td>Kidney International</td>\n",
       "      <td>[00852538]</td>\n",
       "      <td>10.1016/j.kint.2019.04.013</td>\n",
       "      <td>None</td>\n",
       "      <td>English</td>\n",
       "      <td>NaN</td>\n",
       "      <td>31543143.0</td>\n",
       "      <td>Elsevier B.V.</td>\n",
       "      <td>NaN</td>\n",
       "      <td>NaN</td>\n",
       "      <td>00852538</td>\n",
       "    </tr>\n",
       "  </tbody>\n",
       "</table>\n",
       "</div>"
      ],
      "text/plain": [
       "              Eid abstract                           affiliation_organization  \\\n",
       "4034  84893225655      NaN  [[Centre de Biologie Pathologie, Pathology Dep...   \n",
       "4532  85072167588      NaN  [[Department of Pathology, University of Chica...   \n",
       "\n",
       "                                                  title  year  \\\n",
       "4034  The Case Peculiar fibrous nodules in a renal t...  2014   \n",
       "4532  An incidental but pathognomonic finding in ren...  2019   \n",
       "\n",
       "               sourcetitle  issn_print                         doi openaccess  \\\n",
       "4034  Kidney International  [00852538]         10.1038/ki.2013.360       Full   \n",
       "4532  Kidney International  [00852538]  10.1016/j.kint.2019.04.013       None   \n",
       "\n",
       "     meta_language                                         References  \\\n",
       "4034       English  [Gökden, N., El Jamal, S., Gökden, M., Lamps, ...   \n",
       "4532       English                                                NaN   \n",
       "\n",
       "            pmid            publishername keywords funding_text      issn  \n",
       "4034  24487375.0  Nature Publishing Group      NaN          NaN  00852538  \n",
       "4532  31543143.0            Elsevier B.V.      NaN          NaN  00852538  "
      ]
     },
     "execution_count": 61,
     "metadata": {},
     "output_type": "execute_result"
    }
   ],
   "source": [
    "ctf_hackathon_doc[ctf_hackathon_doc.issn == '00852538']"
   ]
  },
  {
   "cell_type": "code",
   "execution_count": 13,
   "metadata": {},
   "outputs": [
    {
     "data": {
      "text/plain": [
       "Index(['Eid', 'abstract', 'affiliation_organization', 'title', 'year',\n",
       "       'sourcetitle', 'issn_print', 'doi', 'openaccess', 'meta_language',\n",
       "       'References', 'pmid', 'publishername', 'keywords', 'funding_text'],\n",
       "      dtype='object')"
      ]
     },
     "execution_count": 13,
     "metadata": {},
     "output_type": "execute_result"
    }
   ],
   "source": [
    "ctf_hackathon_doc.columns"
   ]
  },
  {
   "cell_type": "code",
   "execution_count": 14,
   "metadata": {},
   "outputs": [
    {
     "data": {
      "text/plain": [
       "(5702, 15)"
      ]
     },
     "execution_count": 14,
     "metadata": {},
     "output_type": "execute_result"
    }
   ],
   "source": [
    "ctf_hackathon_doc.shape"
   ]
  },
  {
   "cell_type": "code",
   "execution_count": 73,
   "metadata": {},
   "outputs": [],
   "source": [
    "with open(all_files[0], 'r') as f: \n",
    "    papers_info = f.read() "
   ]
  },
  {
   "cell_type": "code",
   "execution_count": 74,
   "metadata": {},
   "outputs": [
    {
     "data": {
      "text/plain": [
       "'../data/HACKXML0000000004/dataset.xml'"
      ]
     },
     "execution_count": 74,
     "metadata": {},
     "output_type": "execute_result"
    }
   ],
   "source": [
    "all_files[0]"
   ]
  },
  {
   "cell_type": "code",
   "execution_count": 75,
   "metadata": {},
   "outputs": [],
   "source": [
    "papers_info_data = BeautifulSoup(papers_info, \"xml\") "
   ]
  },
  {
   "cell_type": "code",
   "execution_count": 77,
   "metadata": {},
   "outputs": [
    {
     "data": {
      "text/plain": [
       "array(['aid', 'article-number', 'collection-title', 'dataset',\n",
       "       'dataset-action', 'dataset-content', 'dataset-properties',\n",
       "       'dataset-unique-ids', 'delayed-sponsored-article', 'doi',\n",
       "       'dtd-version', 'embargo', 'files-info', 'filesize',\n",
       "       'funding-body-id', 'issn', 'jid', 'jid-aid', 'journal-item',\n",
       "       'journal-item-properties', 'journal-item-unique-ids', 'ml',\n",
       "       'online-publication-date', 'pathname', 'pii', 'pit',\n",
       "       'production-process', 'production-type', 'profile-code',\n",
       "       'profile-dataset-id', 'purpose', 'sponsored-access', 'stage',\n",
       "       'timestamp', 'type', 'version', 'version-number', 'weight'],\n",
       "      dtype='<U25')"
      ]
     },
     "execution_count": 77,
     "metadata": {},
     "output_type": "execute_result"
    }
   ],
   "source": [
    "np.unique([tag.name for tag in papers_info_data.find_all()])"
   ]
  },
  {
   "cell_type": "code",
   "execution_count": 83,
   "metadata": {},
   "outputs": [
    {
     "data": {
      "text/plain": [
       "263"
      ]
     },
     "execution_count": 83,
     "metadata": {},
     "output_type": "execute_result"
    }
   ],
   "source": [
    "len(papers_info_data.find_all('aid'))"
   ]
  },
  {
   "cell_type": "code",
   "execution_count": 78,
   "metadata": {},
   "outputs": [
    {
     "data": {
      "text/plain": [
       "263"
      ]
     },
     "execution_count": 78,
     "metadata": {},
     "output_type": "execute_result"
    }
   ],
   "source": [
    "len(papers_info_data.find_all('issn'))"
   ]
  },
  {
   "cell_type": "code",
   "execution_count": 79,
   "metadata": {},
   "outputs": [
    {
     "data": {
      "text/plain": [
       "263"
      ]
     },
     "execution_count": 79,
     "metadata": {},
     "output_type": "execute_result"
    }
   ],
   "source": [
    "len(all_files[1:]) # in total 263 docs"
   ]
  },
  {
   "cell_type": "code",
   "execution_count": 80,
   "metadata": {},
   "outputs": [],
   "source": [
    "with open(all_files[1], 'r') as f: \n",
    "    example_paper = f.read() "
   ]
  },
  {
   "cell_type": "code",
   "execution_count": 81,
   "metadata": {},
   "outputs": [],
   "source": [
    "example_paper_data = BeautifulSoup(example_paper, \"xml\") "
   ]
  },
  {
   "cell_type": "code",
   "execution_count": 82,
   "metadata": {},
   "outputs": [
    {
     "data": {
      "text/plain": [
       "array(['abstract', 'abstract-sec', 'address-line', 'affiliation', 'aid',\n",
       "       'author', 'author-group', 'authors', 'bib-reference',\n",
       "       'bibliography', 'bibliography-sec', 'body', 'caption', 'city',\n",
       "       'contribution', 'copyright', 'correspondence', 'country',\n",
       "       'cross-ref', 'cross-refs', 'date', 'date-accepted',\n",
       "       'date-received', 'display', 'doi', 'e-address', 'et-al', 'figure',\n",
       "       'first-page', 'float-anchor', 'floats', 'footnote', 'given-name',\n",
       "       'host', 'hsp', 'issue', 'issue-nr', 'item-info', 'jid', 'keyword',\n",
       "       'keywords', 'label', 'last-page', 'link', 'list', 'list-item',\n",
       "       'maintitle', 'note-para', 'organization', 'pages', 'para', 'pii',\n",
       "       'reference', 'section', 'section-title', 'sections', 'series',\n",
       "       'simple-article', 'simple-head', 'simple-para', 'simple-tail',\n",
       "       'sup', 'surname', 'text', 'textbox', 'textbox-body', 'textfn',\n",
       "       'title', 'volume-nr'], dtype='<U16')"
      ]
     },
     "execution_count": 82,
     "metadata": {},
     "output_type": "execute_result"
    }
   ],
   "source": [
    "np.unique([tag.name for tag in example_paper_data.find_all()])"
   ]
  },
  {
   "cell_type": "code",
   "execution_count": 149,
   "metadata": {},
   "outputs": [
    {
     "data": {
      "text/plain": [
       "\"Corresponding author at: Zekai Tahir Burak Women's Health Hospital, Talatpasa Blv. Altindag/Ankara, Turkey. Tel.: +90 505 5781587.\""
      ]
     },
     "execution_count": 149,
     "metadata": {},
     "output_type": "execute_result"
    }
   ],
   "source": [
    "example_paper_data.find('jid').getText()"
   ]
  },
  {
   "cell_type": "code",
   "execution_count": 117,
   "metadata": {},
   "outputs": [
    {
     "name": "stdout",
     "output_type": "stream",
     "text": [
      "AbstractINTRODUCTIONMalignant peripheral nerve sheath tumors (MPNSTs) are rare, up to one half of the MPNSTs occur in patients with neurofibromatosis type-1 (NF-1), while the rest are sporadic. Here, we present a 52-year-old woman with MPNST of the vulva without NF-1. We will discuss basics of the disease, treatment options and follow-up strategies.PRESENTATION OF CASE52-year-old female admitted to our hospital with complaint of abnormal uterine bleeding and rapidly growing vulvar mass. Excisional biopsy of the mass showed MPNST of the vulva. Afterwards, the patient underwent radical vulvectomy with inguinofemoral lymph node dissection. Short after the surgery, multiple lung metastasis were shown and responded to chemotherapy, but rapid local recurrence occurred short after the completion of the chemotherapy.DISCUSSIONThe primary treatment option in MPNSTs is surgical excision with or without adjuvant therapy. There is not enough data about the role of systemic chemotherapy in the management of MPNSTs and it still remains controversial.CONCLUSIONIn general, radiation therapy has not been demonstrated to improve overall survival. Complete surgical resection of the primary tumor is the mainstay of the treatment.\n"
     ]
    }
   ],
   "source": [
    "for tag in example_paper_data.find_all('text'):\n",
    "    print(tag.text)"
   ]
  },
  {
   "cell_type": "code",
   "execution_count": 94,
   "metadata": {},
   "outputs": [
    {
     "name": "stdout",
     "output_type": "stream",
     "text": [
      "Epithelioid cells and mitotic figures. H&E staining, 200× actual magnification.\n",
      "Wavy clusters of spindle cells. H&E staining, 200× actual magnification.\n",
      "Diffuse positive immunostaining for S-100 protein, 100× actual magnification.\n",
      "Malignant peripheral nerve sheath tumors (MPNSTs) are rare, up to one half of the MPNSTs occur in patients with neurofibromatosis type-1 (NF-1), while the rest are sporadic. Here, we present a 52-year-old woman with MPNST of the vulva without NF-1. We will discuss basics of the disease, treatment options and follow-up strategies.\n",
      "52-year-old female admitted to our hospital with complaint of abnormal uterine bleeding and rapidly growing vulvar mass. Excisional biopsy of the mass showed MPNST of the vulva. Afterwards, the patient underwent radical vulvectomy with inguinofemoral lymph node dissection. Short after the surgery, multiple lung metastasis were shown and responded to chemotherapy, but rapid local recurrence occurred short after the completion of the chemotherapy.\n",
      "The primary treatment option in MPNSTs is surgical excision with or without adjuvant therapy. There is not enough data about the role of systemic chemotherapy in the management of MPNSTs and it still remains controversial.\n",
      "In general, radiation therapy has not been demonstrated to improve overall survival. Complete surgical resection of the primary tumor is the mainstay of the treatment.\n",
      "Key learning points\n"
     ]
    }
   ],
   "source": [
    "for tag in example_paper_data.find_all('simple-para'):\n",
    "    print(tag.text)"
   ]
  },
  {
   "cell_type": "code",
   "execution_count": 131,
   "metadata": {},
   "outputs": [],
   "source": [
    "target_tags = ['simple-para', 'para']\n",
    "texts = [t for t in example_paper_data.find_all(text=True) if t.parent.name in target_tags]"
   ]
  },
  {
   "cell_type": "code",
   "execution_count": 133,
   "metadata": {},
   "outputs": [
    {
     "data": {
      "text/plain": [
       "\"Epithelioid cells and mitotic figures. H&E staining, 200× actual magnification. Wavy clusters of spindle cells. H&E staining, 200× actual magnification. Diffuse positive immunostaining for S-100 protein, 100× actual magnification. Malignant peripheral nerve sheath tumors (MPNSTs) are rare, up to one half of the MPNSTs occur in patients with neurofibromatosis type-1 (NF-1), while the rest are sporadic. Here, we present a 52-year-old woman with MPNST of the vulva without NF-1. We will discuss basics of the disease, treatment options and follow-up strategies. 52-year-old female admitted to our hospital with complaint of abnormal uterine bleeding and rapidly growing vulvar mass. Excisional biopsy of the mass showed MPNST of the vulva. Afterwards, the patient underwent radical vulvectomy with inguinofemoral lymph node dissection. Short after the surgery, multiple lung metastasis were shown and responded to chemotherapy, but rapid local recurrence occurred short after the completion of the chemotherapy. The primary treatment option in MPNSTs is surgical excision with or without adjuvant therapy. There is not enough data about the role of systemic chemotherapy in the management of MPNSTs and it still remains controversial. In general, radiation therapy has not been demonstrated to improve overall survival. Complete surgical resection of the primary tumor is the mainstay of the treatment. Malignant peripheral nerve sheath tumors (MPNSTs) are rare; MPNST of the vulva is extremely rare and devastating tumor. Up to one half of the MPNSTs occur in patients with neurofibromatosis type-1 (NF-1), while the rest are sporadic. Optimal treatment of MPNST is surgical resection of the tumor with adequate clear margins, if it is not possible adjuvant radiation therapy with or without chemotherapy may be necessary. Management of locally advanced tumors is challenging and the prognosis is poor. Poor prognostic factors are: tumor size larger than 5 cm, high tumor grade, coexistence with NF-1, advanced patient age, distant metastasis and inability to achieve tumor free margins at the initial surgery. Here, we present a 52-year-old woman with MPNST of the vulva without NF-1. We will discuss basics of the disease, treatment options and follow-up strategies. A 52-year-old woman admitted to our hospital's gynecology department with abnormal uterine bleeding and rapidly growing vulvar mass in the left labium majus. The physical examination of the patient was completely normal without any stigmata of NF-1. Hemoglobin levels and serum biochemical parameters were in normal range. Trans-vaginal ultrasound revealed multiple intramural and submucous leiomyomas with normal adnexa. The mass in the left labium majus was semi-mobile and 5 cm in diameter. A total abdominal hysterectomy and bilateral salpingo-oophorectomy was performed for uterine leiomyomas and abnormal vaginal bleeding. Afterwards, the vulvar mass was excised and sent for frozen section pathology. Frozen section result was not precise for diagnosis and it is indicated that final diagnosis could be made with paraffin sections. Paraffin section result for the tumor was high-grade sarcoma with myxoid areas and epithelial component and spindle cells with tumor positive surgical margins. The tumor had high mitotic activity, that, 10 to 15 mitotic figures were seen per 10 high-power field. Large areas of epithelioid cells ( ) and clusters of wavy spindle cells ( ) were present. Tumor cells were positive for S-100 and negative for cytokeratin, CEA and EMA ( ). Uterus and adnexa were normal except large and multiple myomas. The patient was referred to our gynecologic oncology department two weeks after the initial surgery. Vulvar mass had grown to 6 × 3 cm in the two weeks. No distant metastases were noted in thoraco-abdomino-pelvic computerized tomography scans. Radical vulvectomy with bilateral inguino-femoral lymph node dissection was performed. Final pathology was consistent with MPNST of the vulva. All dissected lymph nodes, total of 17, were negative for tumoral involvement. 6 cycles of adjuvant Ifosfamide, Mesna and Adriamycin (IMA) combination chemotherapy was planned. The patient was discharged from the hospital after 5 days of uneventful postoperative course. Three weeks after the radical vulvectomy, just before the first cycle of chemotherapy, thorax CT revealed multiple metastatic nodules in the lungs. After the third chemotherapy cycle, thorax CT showed rapid response to the therapy, all metastatic nodules were disappeared. After the completion of the sixth cycle, the patient complained about pelvic pain. Pelvic CT showed tumoral invasion of the iliac bones. Palliative radiation therapy was planned for severe pain. Written informed consent was obtained from the patient for publication of this case report and accompanying images. A copy of the written consent is available for review by the Editor-in-Chief of this journal on request. The incidence of MPNST in the general population is 1 per 1 million people per year; the most common localizations for MPNSTs are extremities, trunk, head and neck. Less than 1% of all MPNSTs are located in the vulva. MPNSTs are locally aggressive and tend to recur or metastasize after surgical excision  and even with aggressive surgical and radiation treatment, the prognosis is not good.  In the literature, five-year survival is between 34 and 64 percent. Microscopic features of MPNSTs are varied as they originate from schwann cells, the pluripotential cells of neural crest.  The tumor cells show positive staining for S-100, negative staining for cytokeratin, actin smooth muscle, HMB45 and alpha-1 anti-trypsin.  Microscopic findings of our case were clusters of wavy spindle cells, epithelioid cells on the background, that showing myxoid changes. Tumor cells showed neural and vascular invasion. Microscopic findings of vulvar MPNSTs in the literature are quite similar with our case. The most common findings are wavy spindle cells and epithelioid cells. High mitotic activity and coagulative necrosis are typically present in high-grade tumors. The most presenting symptom of the disease is rapid growing mass and often accompanied by pain.  MPNST rising from female external genitalia is extremely rare. The median age of patients with MPNST of the vulva is 40 years in the literature. The primary treatment option is surgical excision with or without adjuvant therapy. If complete surgical excision is difficult to achieve, then neo-adjuvant radiotherapy or chemotherapy may be an appropriate option. The most predictive factor for survival seems to be complete resection of the tumor with clear surgical margins. There are only 12 reported cases on MPNST of the vulva in the literature. Due to rarity of the condition, there is no consensus about optimal treatment or adjuvant therapy strategies. Most of the cases had undergone wide local excision without further adjuvant therapy. Only three patients of vulvar MPNST had undergone radical vulvectomy with lymph node dissection  as our case. There were no nodal involvement in our case and there is not enough data in the literature about necessity of lymph node dissection in MPNST because disease spread seems to be hematogenous rather than lymphatic way. There is not enough data about the role of systemic chemotherapy in the management of MPNSTs and it still remains controversial.  Adjuvant therapy after initial surgery in high-risk patients and neo-adjuvant therapy in patients who have large, unresectable or metastatic disease may be useful for systemic and local control of the disease. The most studied regimen for MPNST is Ifosfamide and Adriamycin (Doxorubicin) based regimens. Based on these information we planned 6 cycles of adjuvant IMA combination chemotherapy. MPNSTs have been demonstrated to have high local recurrence rates. Terada et al.  advocated that radiotherapy is ineffective as primary therapy, but Lambrou et al.  showed utility of neo-adjuvant radiation therapy in a recurrent large MPNST of the vulva. In general, radiation therapy has not been demonstrated to improve overall survival in patients with MPNST, but it is shown that adjuvant radiation therapy improves local control of the disease. Local recurrence rate of MPNSTs following surgical resection ranges 20–40% and local recurrences tend to occur short after initial resection. The most important risk factor for recurrence is incomplete resection and positive surgical margins. Significant number of patients with MPNST tend to have metastatic disease at the time of diagnosis. Lungs are the most common site for distant metastasis. The natural prognosis of MS is poor, in addition to this; recurrent and metastatic disease, large tumor size and incomplete resection are related with poorer prognosis. MPNSTs remain a diagnostic and therapeutic challenge. Complete surgical resection of the primary tumor is the mainstay of the treatment and additional treatment options such as chemotherapy and radiation therapy warrants local and distant control of the disease. The authors have no conflict of interest to disclose. None. We have obtained detailed written informed consent from the patient. Bulent Ozdal contributed to the surgical intervention and writing the manuscript. Murat Oz contributed to the surgical intervention, literature review and writing the manuscript. Elmas Korkmaz contributed to surgical intervention and literature review. Omur Ataoglu contributed to the pathological study and data collection. Tayfun Gungor and Mehmet M. Meydanli contributed to study design, discussion and supervision. Key learning points Clinical diagnosis, surgical management and adjuvant therapy options for malignant peripheral nerve sheath tumor (MPNST) of the vulva. MPNSTs are extremely malignant and have high potential for local recurrence. The prognosis depends on complete resection of the tumor with clear surgical margins.\""
      ]
     },
     "execution_count": 133,
     "metadata": {},
     "output_type": "execute_result"
    }
   ],
   "source": [
    "' '.join(texts)"
   ]
  },
  {
   "cell_type": "code",
   "execution_count": 152,
   "metadata": {},
   "outputs": [],
   "source": [
    "def nf2020toSoco():\n",
    "    paths = \"../data/HACKXML0000000004/**/*.xml\"\n",
    "    target_tags = ['simple-para', 'para']\n",
    "\n",
    "    docs = []\n",
    "    for path in glob.glob(paths)[1:]:\n",
    "        with open(path, 'r') as f: \n",
    "            data = BeautifulSoup(f.read() , \"xml\") \n",
    "        temp = {}\n",
    "        temp[\"doc_type\"] = \"soco_doc\"\n",
    "        temp[\"meta\"] = {}\n",
    "        temp[\"meta\"]['title'] = data.find('title').getText()\n",
    "        temp[\"meta\"][\"paper_id\"] = data.find('aid').getText()\n",
    "        temp[\"meta\"][\"doi\"] = data.find('doi').getText()\n",
    "        temp[\"meta\"][\"jid\"] = data.find('jid').getText()\n",
    "        temp[\"data\"] = []\n",
    "        \n",
    "        temp[\"data\"].append({\"text\":temp[\"meta\"]['title'],\"type\":\"title\"})\n",
    "        texts = [t for t in data.find_all(text=True) if t.parent.name in target_tags]\n",
    "        temp[\"data\"].append({\"text\":texts, \"type\":\"content\"})\n",
    "        \n",
    "        docs.append(temp)\n",
    "    return docs"
   ]
  },
  {
   "cell_type": "code",
   "execution_count": 153,
   "metadata": {},
   "outputs": [],
   "source": [
    "docs = nf2020toSoco()"
   ]
  },
  {
   "cell_type": "code",
   "execution_count": 154,
   "metadata": {},
   "outputs": [
    {
     "data": {
      "text/plain": [
       "262"
      ]
     },
     "execution_count": 154,
     "metadata": {},
     "output_type": "execute_result"
    }
   ],
   "source": [
    "len(docs)"
   ]
  }
 ],
 "metadata": {
  "kernelspec": {
   "display_name": "Python 3",
   "language": "python",
   "name": "python3"
  },
  "language_info": {
   "codemirror_mode": {
    "name": "ipython",
    "version": 3
   },
   "file_extension": ".py",
   "mimetype": "text/x-python",
   "name": "python",
   "nbconvert_exporter": "python",
   "pygments_lexer": "ipython3",
   "version": "3.7.6"
  }
 },
 "nbformat": 4,
 "nbformat_minor": 4
}
