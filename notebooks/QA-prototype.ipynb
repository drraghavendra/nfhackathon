{
 "cells": [
  {
   "cell_type": "code",
   "execution_count": 11,
   "metadata": {},
   "outputs": [],
   "source": [
    "import numpy as np\n",
    "import pandas as pd\n",
    "\n",
    "from haystack import Finder\n",
    "from haystack.preprocessor.cleaning import clean_wiki_text\n",
    "from haystack.preprocessor.utils import convert_files_to_dicts, fetch_archive_from_http\n",
    "from haystack.reader.farm import FARMReader\n",
    "from haystack.reader.transformers import TransformersReader\n",
    "from haystack.utils import print_answers\n",
    "from haystack.document_store.elasticsearch import ElasticsearchDocumentStore\n",
    "from haystack.retriever.sparse import ElasticsearchRetriever"
   ]
  },
  {
   "cell_type": "code",
   "execution_count": 3,
   "metadata": {},
   "outputs": [
    {
     "name": "stderr",
     "output_type": "stream",
     "text": [
      "10/11/2020 16:19:34 - INFO - elasticsearch -   PUT http://localhost:9200/document [status:200 request:0.427s]\n",
      "10/11/2020 16:19:34 - INFO - elasticsearch -   PUT http://localhost:9200/label [status:200 request:0.148s]\n"
     ]
    }
   ],
   "source": [
    "document_store = ElasticsearchDocumentStore(host=\"localhost\", username=\"\", password=\"\", index=\"document\")"
   ]
  },
  {
   "cell_type": "code",
   "execution_count": 4,
   "metadata": {},
   "outputs": [
    {
     "name": "stderr",
     "output_type": "stream",
     "text": [
      "10/11/2020 16:20:26 - INFO - haystack.preprocessor.utils -   Fetching from https://s3.eu-central-1.amazonaws.com/deepset.ai-farm-qa/datasets/documents/wiki_gameofthrones_txt.zip to `../data/article_txt_got`\n",
      "100%|██████████| 1095120/1095120 [00:02<00:00, 543083.90B/s]\n"
     ]
    },
    {
     "data": {
      "text/plain": [
       "True"
      ]
     },
     "execution_count": 4,
     "metadata": {},
     "output_type": "execute_result"
    }
   ],
   "source": [
    "doc_dir = \"../data/article_txt_got\"\n",
    "s3_url = \"https://s3.eu-central-1.amazonaws.com/deepset.ai-farm-qa/datasets/documents/wiki_gameofthrones_txt.zip\"\n",
    "fetch_archive_from_http(url=s3_url, output_dir=doc_dir)"
   ]
  },
  {
   "cell_type": "code",
   "execution_count": 7,
   "metadata": {},
   "outputs": [
    {
     "name": "stderr",
     "output_type": "stream",
     "text": [
      "10/11/2020 16:26:41 - INFO - haystack.preprocessor.utils -   Converting ../data/article_txt_got/145_Elio_M._García_Jr._and_Linda_Antonsson.txt\n",
      "10/11/2020 16:26:41 - INFO - haystack.preprocessor.utils -   Converting ../data/article_txt_got/368_Jaime_Lannister.txt\n",
      "10/11/2020 16:26:41 - INFO - haystack.preprocessor.utils -   Converting ../data/article_txt_got/133_Game_of_Thrones__Season_5__soundtrack_.txt\n",
      "10/11/2020 16:26:41 - INFO - haystack.preprocessor.utils -   Converting ../data/article_txt_got/515_The_Door__Game_of_Thrones_.txt\n",
      "10/11/2020 16:26:41 - INFO - haystack.preprocessor.utils -   Converting ../data/article_txt_got/119_Walk_of_Punishment.txt\n",
      "10/11/2020 16:26:41 - INFO - haystack.preprocessor.utils -   Converting ../data/article_txt_got/369_Samwell_Tarly.txt\n",
      "10/11/2020 16:26:41 - INFO - haystack.preprocessor.utils -   Converting ../data/article_txt_got/356_Tales_of_Dunk_and_Egg.txt\n",
      "10/11/2020 16:26:41 - INFO - haystack.preprocessor.utils -   Converting ../data/article_txt_got/195_World_of_A_Song_of_Ice_and_Fire.txt\n",
      "10/11/2020 16:26:41 - INFO - haystack.preprocessor.utils -   Converting ../data/article_txt_got/25_Game_of_Thrones__Season_2__soundtrack_.txt\n",
      "10/11/2020 16:26:41 - INFO - haystack.preprocessor.utils -   Converting ../data/article_txt_got/460_Battle_of_the_Bastards.txt\n",
      "10/11/2020 16:26:41 - INFO - haystack.preprocessor.utils -   Converting ../data/article_txt_got/511_After_the_Thrones.txt\n",
      "10/11/2020 16:26:41 - INFO - haystack.preprocessor.utils -   Converting ../data/article_txt_got/69_The_Red_Woman.txt\n",
      "10/11/2020 16:26:41 - INFO - haystack.preprocessor.utils -   Converting ../data/article_txt_got/407_The_Long_Night__Game_of_Thrones_.txt\n",
      "10/11/2020 16:26:41 - INFO - haystack.preprocessor.utils -   Converting ../data/article_txt_got/201_A_Game_of_Thrones__card_game_.txt\n",
      "10/11/2020 16:26:41 - INFO - haystack.preprocessor.utils -   Converting ../data/article_txt_got/97_Tyrion_Lannister.txt\n",
      "10/11/2020 16:26:41 - INFO - haystack.preprocessor.utils -   Converting ../data/article_txt_got/401_Power_Is_Power.txt\n",
      "10/11/2020 16:26:41 - INFO - haystack.preprocessor.utils -   Converting ../data/article_txt_got/51_Iron_Throne__A_Song_of_Ice_and_Fire_.txt\n",
      "10/11/2020 16:26:41 - INFO - haystack.preprocessor.utils -   Converting ../data/article_txt_got/20_Light_of_the_Seven.txt\n",
      "10/11/2020 16:26:41 - INFO - haystack.preprocessor.utils -   Converting ../data/article_txt_got/359_Kill_the_Boy.txt\n",
      "10/11/2020 16:26:41 - INFO - haystack.preprocessor.utils -   Converting ../data/article_txt_got/224_The_Night_Lands.txt\n",
      "10/11/2020 16:26:41 - INFO - haystack.preprocessor.utils -   Converting ../data/article_txt_got/8_Eastwatch.txt\n",
      "10/11/2020 16:26:41 - INFO - haystack.preprocessor.utils -   Converting ../data/article_txt_got/469_Outline_of_A_Song_of_Ice_and_Fire_franchise.txt\n",
      "10/11/2020 16:26:41 - INFO - haystack.preprocessor.utils -   Converting ../data/article_txt_got/402_A_Knight_of_the_Seven_Kingdoms__Game_of_Thrones_.txt\n",
      "10/11/2020 16:26:41 - INFO - haystack.preprocessor.utils -   Converting ../data/article_txt_got/11_The_Dragon_and_the_Wolf.txt\n",
      "10/11/2020 16:26:41 - INFO - haystack.preprocessor.utils -   Converting ../data/article_txt_got/53_The_Lion_and_the_Rose.txt\n",
      "10/11/2020 16:26:41 - INFO - haystack.preprocessor.utils -   Converting ../data/article_txt_got/136_Game_of_Thrones__Season_8__soundtrack_.txt\n",
      "10/11/2020 16:26:41 - INFO - haystack.preprocessor.utils -   Converting ../data/article_txt_got/439_Melisandre.txt\n",
      "10/11/2020 16:26:41 - INFO - haystack.preprocessor.utils -   Converting ../data/article_txt_got/485_Oathkeeper.txt\n",
      "10/11/2020 16:26:41 - INFO - haystack.preprocessor.utils -   Converting ../data/article_txt_got/26_Game_of_Thrones__Season_3__soundtrack_.txt\n",
      "10/11/2020 16:26:41 - INFO - haystack.preprocessor.utils -   Converting ../data/article_txt_got/329_Robert_Baratheon.txt\n",
      "10/11/2020 16:26:41 - INFO - haystack.preprocessor.utils -   Converting ../data/article_txt_got/443_The_Kingsroad.txt\n",
      "10/11/2020 16:26:41 - INFO - haystack.preprocessor.utils -   Converting ../data/article_txt_got/198_A_Clash_of_Kings.txt\n",
      "10/11/2020 16:26:41 - INFO - haystack.preprocessor.utils -   Converting ../data/article_txt_got/146_The_Sons_of_the_Dragon.txt\n",
      "10/11/2020 16:26:41 - INFO - haystack.preprocessor.utils -   Converting ../data/article_txt_got/68_The_Gift__Game_of_Thrones_.txt\n",
      "10/11/2020 16:26:41 - INFO - haystack.preprocessor.utils -   Converting ../data/article_txt_got/311_Game_of_Thrones__season_7_.txt\n",
      "10/11/2020 16:26:41 - INFO - haystack.preprocessor.utils -   Converting ../data/article_txt_got/482_Petyr_Baelish.txt\n",
      "10/11/2020 16:26:41 - INFO - haystack.preprocessor.utils -   Converting ../data/article_txt_got/7_The_Spoils_of_War__Game_of_Thrones_.txt\n",
      "10/11/2020 16:26:41 - INFO - haystack.preprocessor.utils -   Converting ../data/article_txt_got/332_Sansa_Stark.txt\n",
      "10/11/2020 16:26:41 - INFO - haystack.preprocessor.utils -   Converting ../data/article_txt_got/30_List_of_A_Song_of_Ice_and_Fire_characters.txt\n",
      "10/11/2020 16:26:41 - INFO - haystack.preprocessor.utils -   Converting ../data/article_txt_got/55_Breaker_of_Chains.txt\n",
      "10/11/2020 16:26:41 - INFO - haystack.preprocessor.utils -   Converting ../data/article_txt_got/342_Theon_Greyjoy.txt\n",
      "10/11/2020 16:26:41 - INFO - haystack.preprocessor.utils -   Converting ../data/article_txt_got/197_A_Game_of_Thrones.txt\n",
      "10/11/2020 16:26:41 - INFO - haystack.preprocessor.utils -   Converting ../data/article_txt_got/52_Catch_the_Throne.txt\n",
      "10/11/2020 16:26:41 - INFO - haystack.preprocessor.utils -   Converting ../data/article_txt_got/194_A_Song_of_Ice_and_Fire.txt\n",
      "10/11/2020 16:26:41 - INFO - haystack.preprocessor.utils -   Converting ../data/article_txt_got/273_High_Sparrow.txt\n",
      "10/11/2020 16:26:41 - INFO - haystack.preprocessor.utils -   Converting ../data/article_txt_got/454_Music_of_Game_of_Thrones.txt\n",
      "10/11/2020 16:26:41 - INFO - haystack.preprocessor.utils -   Converting ../data/article_txt_got/475_A_Game_of_Thrones__role-playing_game_.txt\n",
      "10/11/2020 16:26:41 - INFO - haystack.preprocessor.utils -   Converting ../data/article_txt_got/446_A_Golden_Crown.txt\n",
      "10/11/2020 16:26:41 - INFO - haystack.preprocessor.utils -   Converting ../data/article_txt_got/360_List_of_Game_of_Thrones_episodes.txt\n",
      "10/11/2020 16:26:41 - INFO - haystack.preprocessor.utils -   Converting ../data/article_txt_got/207_Jon_Snow__character_.txt\n",
      "10/11/2020 16:26:41 - INFO - haystack.preprocessor.utils -   Converting ../data/article_txt_got/44_Daenerys_Targaryen.txt\n",
      "10/11/2020 16:26:41 - INFO - haystack.preprocessor.utils -   Converting ../data/article_txt_got/160_Viserys_Targaryen.txt\n",
      "10/11/2020 16:26:41 - INFO - haystack.preprocessor.utils -   Converting ../data/article_txt_got/395_Game_of_Thrones__season_5_.txt\n",
      "10/11/2020 16:26:41 - INFO - haystack.preprocessor.utils -   Converting ../data/article_txt_got/78_The_Rains_of_Castamere.txt\n",
      "10/11/2020 16:26:41 - INFO - haystack.preprocessor.utils -   Converting ../data/article_txt_got/99_A_Song_of_Ass_and_Fire.txt\n",
      "10/11/2020 16:26:41 - INFO - haystack.preprocessor.utils -   Converting ../data/article_txt_got/411_The_Iron_Throne__Game_of_Thrones_.txt\n",
      "10/11/2020 16:26:41 - INFO - haystack.preprocessor.utils -   Converting ../data/article_txt_got/74_The_Prince_of_Winterfell.txt\n",
      "10/11/2020 16:26:41 - INFO - haystack.preprocessor.utils -   Converting ../data/article_txt_got/233_Myrcella_Baratheon.txt\n",
      "10/11/2020 16:26:41 - INFO - haystack.preprocessor.utils -   Converting ../data/article_txt_got/445_The_Wolf_and_the_Lion.txt\n",
      "10/11/2020 16:26:41 - INFO - haystack.preprocessor.utils -   Converting ../data/article_txt_got/77_Game_of_Thrones_Ascent.txt\n",
      "10/11/2020 16:26:41 - INFO - haystack.preprocessor.utils -   Converting ../data/article_txt_got/420_Blood_of_My_Blood.txt\n",
      "10/11/2020 16:26:41 - INFO - haystack.preprocessor.utils -   Converting ../data/article_txt_got/148_Game_of_Thrones__Winter_Is_Coming.txt\n",
      "10/11/2020 16:26:41 - INFO - haystack.preprocessor.utils -   Converting ../data/article_txt_got/39_Renly_Baratheon.txt\n",
      "10/11/2020 16:26:41 - INFO - haystack.preprocessor.utils -   Converting ../data/article_txt_got/22_The_Rains_of_Castamere__song_.txt\n",
      "10/11/2020 16:26:41 - INFO - haystack.preprocessor.utils -   Converting ../data/article_txt_got/9_Game_of_Thrones_Tapestry.txt\n",
      "10/11/2020 16:26:41 - INFO - haystack.preprocessor.utils -   Converting ../data/article_txt_got/345_A_Game_of_Thrones__comics_.txt\n",
      "10/11/2020 16:26:41 - INFO - haystack.preprocessor.utils -   Converting ../data/article_txt_got/424_Night_King.txt\n",
      "10/11/2020 16:26:41 - INFO - haystack.preprocessor.utils -   Converting ../data/article_txt_got/435_White_Walker.txt\n",
      "10/11/2020 16:26:41 - INFO - haystack.preprocessor.utils -   Converting ../data/article_txt_got/304_Hardhome.txt\n",
      "10/11/2020 16:26:41 - INFO - haystack.preprocessor.utils -   Converting ../data/article_txt_got/12_Fire.txt\n",
      "10/11/2020 16:26:41 - INFO - haystack.preprocessor.utils -   Converting ../data/article_txt_got/102_The_Princess_and_the_Queen.txt\n",
      "10/11/2020 16:26:41 - INFO - haystack.preprocessor.utils -   Converting ../data/article_txt_got/444_Cripples__Bastards__and_Broken_Things.txt\n",
      "10/11/2020 16:26:41 - INFO - haystack.preprocessor.utils -   Converting ../data/article_txt_got/121_The_Bear_and_the_Maiden_Fair.txt\n",
      "10/11/2020 16:26:41 - INFO - haystack.preprocessor.utils -   Converting ../data/article_txt_got/461_The_Winds_of_Winter__Game_of_Thrones_.txt\n",
      "10/11/2020 16:26:42 - INFO - haystack.preprocessor.utils -   Converting ../data/article_txt_got/362_Winter_Is_Coming.txt\n",
      "10/11/2020 16:26:42 - INFO - haystack.preprocessor.utils -   Converting ../data/article_txt_got/504_List_of_A_Song_of_Ice_and_Fire_video_games.txt\n",
      "10/11/2020 16:26:42 - INFO - haystack.preprocessor.utils -   Converting ../data/article_txt_got/101_Titties_and_Dragons.txt\n",
      "10/11/2020 16:26:42 - INFO - haystack.preprocessor.utils -   Converting ../data/article_txt_got/379_Davos_Seaworth.txt\n",
      "10/11/2020 16:26:42 - INFO - haystack.preprocessor.utils -   Converting ../data/article_txt_got/98_Black_Friday__South_Park_.txt\n",
      "10/11/2020 16:26:42 - INFO - haystack.preprocessor.utils -   Converting ../data/article_txt_got/86_Game_of_Thrones__season_4_.txt\n",
      "10/11/2020 16:26:42 - INFO - haystack.preprocessor.utils -   Converting ../data/article_txt_got/10_Beyond_the_Wall__Game_of_Thrones_.txt\n",
      "10/11/2020 16:26:42 - INFO - haystack.preprocessor.utils -   Converting ../data/article_txt_got/508_A_Game_of_Thrones__Second_Edition__card_game_.txt\n",
      "10/11/2020 16:26:42 - INFO - haystack.preprocessor.utils -   Converting ../data/article_txt_got/340_Roose_Bolton.txt\n",
      "10/11/2020 16:26:42 - INFO - haystack.preprocessor.utils -   Converting ../data/article_txt_got/28_Jorah_Mormont.txt\n",
      "10/11/2020 16:26:42 - INFO - haystack.preprocessor.utils -   Converting ../data/article_txt_got/396_Game_of_Thrones__season_6_.txt\n",
      "10/11/2020 16:26:42 - INFO - haystack.preprocessor.utils -   Converting ../data/article_txt_got/209_Mockingbird__Game_of_Thrones_.txt\n",
      "10/11/2020 16:26:42 - INFO - haystack.preprocessor.utils -   Converting ../data/article_txt_got/341_Ned_Stark.txt\n",
      "10/11/2020 16:26:42 - INFO - haystack.preprocessor.utils -   Converting ../data/article_txt_got/57_The_Laws_of_Gods_and_Men.txt\n",
      "10/11/2020 16:26:42 - INFO - haystack.preprocessor.utils -   Converting ../data/article_txt_got/37_Joffrey_Baratheon.txt\n",
      "10/11/2020 16:26:42 - INFO - haystack.preprocessor.utils -   Converting ../data/article_txt_got/371_Cersei_Lannister.txt\n",
      "10/11/2020 16:26:42 - INFO - haystack.preprocessor.utils -   Converting ../data/article_txt_got/67_Unbowed__Unbent__Unbroken.txt\n",
      "10/11/2020 16:26:42 - INFO - haystack.preprocessor.utils -   Converting ../data/article_txt_got/481_Sandor_Clegane.txt\n",
      "10/11/2020 16:26:42 - INFO - haystack.preprocessor.utils -   Converting ../data/article_txt_got/135_Game_of_Thrones__Season_7__soundtrack_.txt\n",
      "10/11/2020 16:26:42 - INFO - haystack.preprocessor.utils -   Converting ../data/article_txt_got/425_No_One__Game_of_Thrones_.txt\n",
      "10/11/2020 16:26:42 - INFO - haystack.preprocessor.utils -   Converting ../data/article_txt_got/501_Khal_Drogo.txt\n",
      "10/11/2020 16:26:42 - INFO - haystack.preprocessor.utils -   Converting ../data/article_txt_got/447_You_Win_or_You_Die.txt\n",
      "10/11/2020 16:26:42 - INFO - haystack.preprocessor.utils -   Converting ../data/article_txt_got/228_Souad_Faress.txt\n",
      "10/11/2020 16:26:42 - INFO - haystack.preprocessor.utils -   Converting ../data/article_txt_got/54_Two_Swords__Game_of_Thrones_.txt\n",
      "10/11/2020 16:26:42 - INFO - haystack.preprocessor.utils -   Converting ../data/article_txt_got/76_Valar_Morghulis.txt\n",
      "10/11/2020 16:26:42 - INFO - haystack.preprocessor.utils -   Converting ../data/article_txt_got/134_Game_of_Thrones__Season_6__soundtrack_.txt\n",
      "10/11/2020 16:26:42 - INFO - haystack.preprocessor.utils -   Converting ../data/article_txt_got/306_The_Dance_of_Dragons.txt\n",
      "10/11/2020 16:26:42 - INFO - haystack.preprocessor.utils -   Converting ../data/article_txt_got/27_Game_of_Thrones__Season_4__soundtrack_.txt\n",
      "10/11/2020 16:26:42 - INFO - haystack.preprocessor.utils -   Converting ../data/article_txt_got/24_Game_of_Thrones__Season_1__soundtrack_.txt\n",
      "10/11/2020 16:26:42 - INFO - haystack.preprocessor.utils -   Converting ../data/article_txt_got/199_A_Storm_of_Swords.txt\n",
      "10/11/2020 16:26:42 - INFO - haystack.preprocessor.utils -   Converting ../data/article_txt_got/310_Mother_s_Mercy.txt\n",
      "10/11/2020 16:26:42 - INFO - haystack.preprocessor.utils -   Converting ../data/article_txt_got/452_Fire_and_Blood__Game_of_Thrones_.txt\n",
      "10/11/2020 16:26:42 - INFO - haystack.preprocessor.utils -   Converting ../data/article_txt_got/262_Gilly__character_.txt\n",
      "10/11/2020 16:26:42 - INFO - haystack.preprocessor.utils -   Converting ../data/article_txt_got/202_A_Feast_for_Crows.txt\n",
      "10/11/2020 16:26:42 - INFO - haystack.preprocessor.utils -   Converting ../data/article_txt_got/449_The_Pointy_End.txt\n",
      "10/11/2020 16:26:42 - INFO - haystack.preprocessor.utils -   Converting ../data/article_txt_got/85_Game_of_Thrones__Seven_Kingdoms.txt\n",
      "10/11/2020 16:26:42 - INFO - haystack.preprocessor.utils -   Converting ../data/article_txt_got/347_Game_of_Thrones__season_2_.txt\n",
      "10/11/2020 16:26:42 - INFO - haystack.preprocessor.utils -   Converting ../data/article_txt_got/120_And_Now_His_Watch_Is_Ended.txt\n",
      "10/11/2020 16:26:42 - INFO - haystack.preprocessor.utils -   Converting ../data/article_txt_got/217_The_Rogue_Prince.txt\n",
      "10/11/2020 16:26:42 - INFO - haystack.preprocessor.utils -   Converting ../data/article_txt_got/33_David_Benioff.txt\n",
      "10/11/2020 16:26:42 - INFO - haystack.preprocessor.utils -   Converting ../data/article_txt_got/218_Olenna_Tyrell.txt\n",
      "10/11/2020 16:26:42 - INFO - haystack.preprocessor.utils -   Converting ../data/article_txt_got/0_Game_of_Thrones__season_8_.txt\n",
      "10/11/2020 16:26:42 - INFO - haystack.preprocessor.utils -   Converting ../data/article_txt_got/474_Bronn__character_.txt\n",
      "10/11/2020 16:26:42 - INFO - haystack.preprocessor.utils -   Converting ../data/article_txt_got/456_Works_based_on_A_Song_of_Ice_and_Fire.txt\n",
      "10/11/2020 16:26:42 - INFO - haystack.preprocessor.utils -   Converting ../data/article_txt_got/154_Margaery_Tyrell.txt\n",
      "10/11/2020 16:26:42 - INFO - haystack.preprocessor.utils -   Converting ../data/article_txt_got/331_Bran_Stark.txt\n",
      "10/11/2020 16:26:42 - INFO - haystack.preprocessor.utils -   Converting ../data/article_txt_got/480_Varys.txt\n",
      "10/11/2020 16:26:42 - INFO - haystack.preprocessor.utils -   Converting ../data/article_txt_got/330_Oberyn_Martell.txt\n",
      "10/11/2020 16:26:42 - INFO - haystack.preprocessor.utils -   Converting ../data/article_txt_got/408_The_Last_of_the_Starks.txt\n",
      "10/11/2020 16:26:42 - INFO - haystack.preprocessor.utils -   Converting ../data/article_txt_got/394_Game_of_Thrones__2014_video_game_.txt\n",
      "10/11/2020 16:26:42 - INFO - haystack.preprocessor.utils -   Converting ../data/article_txt_got/346_Ygritte.txt\n",
      "10/11/2020 16:26:42 - INFO - haystack.preprocessor.utils -   Converting ../data/article_txt_got/348_The_Winds_of_Winter.txt\n",
      "10/11/2020 16:26:42 - INFO - haystack.preprocessor.utils -   Converting ../data/article_txt_got/131_Mhysa.txt\n",
      "10/11/2020 16:26:42 - INFO - haystack.preprocessor.utils -   Converting ../data/article_txt_got/87_Valar_Dohaeris.txt\n",
      "10/11/2020 16:26:42 - INFO - haystack.preprocessor.utils -   Converting ../data/article_txt_got/1_Dragonstone__Game_of_Thrones_episode_.txt\n",
      "10/11/2020 16:26:42 - INFO - haystack.preprocessor.utils -   Converting ../data/article_txt_got/400_Winterfell__Game_of_Thrones_episode_.txt\n",
      "10/11/2020 16:26:42 - INFO - haystack.preprocessor.utils -   Converting ../data/article_txt_got/373_Tywin_Lannister.txt\n",
      "10/11/2020 16:26:42 - INFO - haystack.preprocessor.utils -   Converting ../data/article_txt_got/75_Blackwater__Game_of_Thrones_.txt\n",
      "10/11/2020 16:26:42 - INFO - haystack.preprocessor.utils -   Converting ../data/article_txt_got/378_A_Game_of_Thrones__board_game_.txt\n",
      "10/11/2020 16:26:42 - INFO - haystack.preprocessor.utils -   Converting ../data/article_txt_got/512_Home__Game_of_Thrones_.txt\n",
      "10/11/2020 16:26:42 - INFO - haystack.preprocessor.utils -   Converting ../data/article_txt_got/80_A_Song_of_Ice_and_Fire_fandom.txt\n",
      "10/11/2020 16:26:42 - INFO - haystack.preprocessor.utils -   Converting ../data/article_txt_got/229_Game_of_Thrones.txt\n",
      "10/11/2020 16:26:42 - INFO - haystack.preprocessor.utils -   Converting ../data/article_txt_got/56_First_of_His_Name.txt\n",
      "10/11/2020 16:26:42 - INFO - haystack.preprocessor.utils -   Converting ../data/article_txt_got/263_Tormund_Giantsbane.txt\n",
      "10/11/2020 16:26:42 - INFO - haystack.preprocessor.utils -   Converting ../data/article_txt_got/513_Oathbreaker__Game_of_Thrones_.txt\n",
      "10/11/2020 16:26:42 - INFO - haystack.preprocessor.utils -   Converting ../data/article_txt_got/487_Ramsay_Bolton.txt\n",
      "10/11/2020 16:26:42 - INFO - haystack.preprocessor.utils -   Converting ../data/article_txt_got/365_A_Song_of_Ice_and_Fire_Roleplaying.txt\n",
      "10/11/2020 16:26:42 - INFO - haystack.preprocessor.utils -   Converting ../data/article_txt_got/73_A_Man_Without_Honor.txt\n",
      "10/11/2020 16:26:42 - INFO - haystack.preprocessor.utils -   Converting ../data/article_txt_got/208_Robb_Stark.txt\n",
      "10/11/2020 16:26:42 - INFO - haystack.preprocessor.utils -   Converting ../data/article_txt_got/343_Catelyn_Stark.txt\n",
      "10/11/2020 16:26:42 - INFO - haystack.preprocessor.utils -   Converting ../data/article_txt_got/232_Tommen_Baratheon.txt\n",
      "10/11/2020 16:26:42 - INFO - haystack.preprocessor.utils -   Converting ../data/article_txt_got/43_Arya_Stark.txt\n",
      "10/11/2020 16:26:42 - INFO - haystack.preprocessor.utils -   Converting ../data/article_txt_got/84_List_of_awards_and_nominations_received_by_Game_of_Thrones.txt\n",
      "10/11/2020 16:26:42 - INFO - haystack.preprocessor.utils -   Converting ../data/article_txt_got/450_Baelor.txt\n",
      "10/11/2020 16:26:42 - INFO - haystack.preprocessor.utils -   Converting ../data/article_txt_got/399_For_the_Throne__Music_Inspired_by_the_HBO_Series_Game_of_Thrones.txt\n",
      "10/11/2020 16:26:42 - INFO - haystack.preprocessor.utils -   Converting ../data/article_txt_got/40_Stannis_Baratheon.txt\n",
      "10/11/2020 16:26:42 - INFO - haystack.preprocessor.utils -   Converting ../data/article_txt_got/495_Hodor.txt\n",
      "10/11/2020 16:26:42 - INFO - haystack.preprocessor.utils -   Converting ../data/article_txt_got/23_Game_of_Thrones_Live_Concert_Experience.txt\n",
      "10/11/2020 16:26:42 - INFO - haystack.preprocessor.utils -   Converting ../data/article_txt_got/130_Game_of_Thrones_title_sequence.txt\n",
      "10/11/2020 16:26:42 - INFO - haystack.preprocessor.utils -   Converting ../data/article_txt_got/317_The_Broken_Man.txt\n",
      "10/11/2020 16:26:42 - INFO - haystack.preprocessor.utils -   Converting ../data/article_txt_got/488_Brienne_of_Tarth.txt\n",
      "10/11/2020 16:26:42 - INFO - haystack.preprocessor.utils -   Converting ../data/article_txt_got/21_The_Bear_and_the_Maiden_Fair__song_.txt\n",
      "10/11/2020 16:26:42 - INFO - haystack.preprocessor.utils -   Converting ../data/article_txt_got/211_The_Watchers_on_the_Wall.txt\n",
      "10/11/2020 16:26:42 - INFO - haystack.preprocessor.utils -   Converting ../data/article_txt_got/453_Game_of_Thrones__2012_video_game_.txt\n",
      "10/11/2020 16:26:42 - INFO - haystack.preprocessor.utils -   Converting ../data/article_txt_got/442_Game_of_Thrones__season_1_.txt\n",
      "10/11/2020 16:26:42 - INFO - haystack.preprocessor.utils -   Converting ../data/article_txt_got/410_The_Bells__Game_of_Thrones_.txt\n",
      "10/11/2020 16:26:42 - INFO - haystack.preprocessor.utils -   Converting ../data/article_txt_got/213_Valyrian_languages.txt\n",
      "10/11/2020 16:26:42 - INFO - haystack.preprocessor.utils -   Converting ../data/article_txt_got/126_Kissed_by_Fire.txt\n",
      "10/11/2020 16:26:42 - INFO - haystack.preprocessor.utils -   Converting ../data/article_txt_got/212_The_Children__Game_of_Thrones_.txt\n",
      "10/11/2020 16:26:42 - INFO - haystack.preprocessor.utils -   Converting ../data/article_txt_got/299_Rani_Mahal__TV_series_.txt\n",
      "10/11/2020 16:26:42 - INFO - haystack.preprocessor.utils -   Converting ../data/article_txt_got/214_Dothraki_language.txt\n",
      "10/11/2020 16:26:42 - INFO - haystack.preprocessor.utils -   Converting ../data/article_txt_got/506_Game_of_Thrones_Theme.txt\n",
      "10/11/2020 16:26:42 - INFO - haystack.preprocessor.utils -   Converting ../data/article_txt_got/367_Gregor_Clegane.txt\n",
      "10/11/2020 16:26:42 - INFO - haystack.preprocessor.utils -   Converting ../data/article_txt_got/151_Ellaria_Sand.txt\n",
      "10/11/2020 16:26:42 - INFO - haystack.preprocessor.utils -   Converting ../data/article_txt_got/191_Gendry.txt\n",
      "10/11/2020 16:26:42 - INFO - haystack.preprocessor.utils -   Converting ../data/article_txt_got/79_Thronecast.txt\n",
      "10/11/2020 16:26:42 - INFO - haystack.preprocessor.utils -   Converting ../data/article_txt_got/477_A_Dance_with_Dragons.txt\n",
      "10/11/2020 16:26:42 - INFO - haystack.preprocessor.utils -   Converting ../data/article_txt_got/193_Lord_Snow.txt\n",
      "10/11/2020 16:26:42 - INFO - haystack.preprocessor.utils -   Converting ../data/article_txt_got/514_Book_of_the_Stranger.txt\n",
      "10/11/2020 16:26:42 - INFO - haystack.preprocessor.utils -   Converting ../data/article_txt_got/334_Rickon_Stark.txt\n",
      "10/11/2020 16:26:42 - INFO - haystack.preprocessor.utils -   Converting ../data/article_txt_got/210_The_Mountain_and_the_Viper.txt\n",
      "10/11/2020 16:26:42 - INFO - haystack.preprocessor.utils -   Converting ../data/article_txt_got/127_The_Climb__Game_of_Thrones_.txt\n",
      "10/11/2020 16:26:42 - INFO - haystack.preprocessor.utils -   Converting ../data/article_txt_got/3_The_Queen_s_Justice.txt\n",
      "10/11/2020 16:26:42 - INFO - haystack.preprocessor.utils -   Converting ../data/article_txt_got/403_Jenny_of_Oldstones.txt\n",
      "10/11/2020 16:26:42 - INFO - haystack.preprocessor.utils -   Converting ../data/article_txt_got/129_Second_Sons.txt\n",
      "10/11/2020 16:26:42 - INFO - haystack.preprocessor.utils -   Converting ../data/article_txt_got/349_List_of_Game_of_Thrones_characters.txt\n",
      "10/11/2020 16:26:42 - INFO - haystack.preprocessor.utils -   Converting ../data/article_txt_got/118_Dark_Wings__Dark_Words.txt\n",
      "10/11/2020 16:26:42 - INFO - haystack.preprocessor.utils -   Converting ../data/article_txt_got/358_A_Game_of_Thrones__Genesis.txt\n",
      "10/11/2020 16:26:42 - INFO - haystack.preprocessor.utils -   Converting ../data/article_txt_got/2_Stormborn.txt\n"
     ]
    }
   ],
   "source": [
    "dicts = convert_files_to_dicts(dir_path=doc_dir, clean_func=clean_wiki_text, split_paragraphs=True)"
   ]
  },
  {
   "cell_type": "code",
   "execution_count": 8,
   "metadata": {},
   "outputs": [
    {
     "data": {
      "text/plain": [
       "2497"
      ]
     },
     "execution_count": 8,
     "metadata": {},
     "output_type": "execute_result"
    }
   ],
   "source": [
    "len(dicts)"
   ]
  },
  {
   "cell_type": "code",
   "execution_count": 20,
   "metadata": {},
   "outputs": [
    {
     "name": "stdout",
     "output_type": "stream",
     "text": [
      "{'text': \"Linda Antonsson and Elio García at Archipelacon on June 28, 2015.\\n'''Elio Miguel García Jr.''' (born May 6, 1978) and '''Linda Maria Antonsson''' (born November 18, 1974) are authors known for their contributions and expertise in the ''A Song of Ice and Fire'' series by George R. R. Martin, co-writing in 2014 with Martin ''The World of Ice & Fire'', a companion book for the series. They are also the founders of the fansite Westeros.org, one of the earliest fan websites for ''A Song of Ice and Fire''.\", 'meta': {'name': '145_Elio_M._García_Jr._and_Linda_Antonsson.txt'}}\n"
     ]
    }
   ],
   "source": [
    "print(dicts[0])"
   ]
  },
  {
   "cell_type": "code",
   "execution_count": 10,
   "metadata": {},
   "outputs": [
    {
     "name": "stderr",
     "output_type": "stream",
     "text": [
      "10/11/2020 16:27:22 - INFO - elasticsearch -   POST http://localhost:9200/_bulk?refresh=wait_for [status:200 request:1.057s]\n",
      "10/11/2020 16:27:23 - INFO - elasticsearch -   POST http://localhost:9200/_bulk?refresh=wait_for [status:200 request:1.083s]\n",
      "10/11/2020 16:27:25 - INFO - elasticsearch -   POST http://localhost:9200/_bulk?refresh=wait_for [status:200 request:1.037s]\n",
      "10/11/2020 16:27:26 - INFO - elasticsearch -   POST http://localhost:9200/_bulk?refresh=wait_for [status:200 request:1.019s]\n",
      "10/11/2020 16:27:27 - INFO - elasticsearch -   POST http://localhost:9200/_bulk?refresh=wait_for [status:200 request:1.037s]\n"
     ]
    }
   ],
   "source": [
    "# Now, let's write the dicts containing documents to our DB.\n",
    "document_store.write_documents(dicts)"
   ]
  },
  {
   "cell_type": "code",
   "execution_count": 12,
   "metadata": {},
   "outputs": [],
   "source": [
    "retriever = ElasticsearchRetriever(document_store=document_store)"
   ]
  },
  {
   "cell_type": "code",
   "execution_count": 13,
   "metadata": {},
   "outputs": [
    {
     "name": "stderr",
     "output_type": "stream",
     "text": [
      "10/11/2020 16:28:33 - INFO - farm.utils -   device: cpu n_gpu: 0, distributed training: False, automatic mixed precision training: None\n",
      "10/11/2020 16:28:33 - INFO - farm.infer -   Could not find `deepset/roberta-base-squad2` locally. Try to download from model hub ...\n",
      "10/11/2020 16:28:33 - INFO - filelock -   Lock 140402708652496 acquired on /Users/j.zhang/.cache/torch/transformers/f7d4b9379a9c487fa03ccf3d8e00058faa9d664cf01fc03409138246f48760da.c6288e0f84ec797ba5c525c923a5bbc479b47c761aded9734a5f6a473b044c8d.lock\n"
     ]
    },
    {
     "data": {
      "application/vnd.jupyter.widget-view+json": {
       "model_id": "a87e18a60ba8436ebd730fdf608b40f9",
       "version_major": 2,
       "version_minor": 0
      },
      "text/plain": [
       "HBox(children=(IntProgress(value=0, description='Downloading', max=559, style=ProgressStyle(description_width=…"
      ]
     },
     "metadata": {},
     "output_type": "display_data"
    },
    {
     "name": "stderr",
     "output_type": "stream",
     "text": [
      "10/11/2020 16:28:33 - INFO - filelock -   Lock 140402708652496 released on /Users/j.zhang/.cache/torch/transformers/f7d4b9379a9c487fa03ccf3d8e00058faa9d664cf01fc03409138246f48760da.c6288e0f84ec797ba5c525c923a5bbc479b47c761aded9734a5f6a473b044c8d.lock\n"
     ]
    },
    {
     "name": "stdout",
     "output_type": "stream",
     "text": [
      "\n"
     ]
    },
    {
     "name": "stderr",
     "output_type": "stream",
     "text": [
      "10/11/2020 16:28:34 - INFO - filelock -   Lock 140402708607056 acquired on /Users/j.zhang/.cache/torch/transformers/8c0c8b6371111ac5fbc176aefcf9dbe129db7be654c569b8375dd3712fc4dc67.d045adc91e17ecdf7dc3eeff4c875df94bdf2eb749d72b3ae47ae93f8e85213c.lock\n"
     ]
    },
    {
     "data": {
      "application/vnd.jupyter.widget-view+json": {
       "model_id": "004edcf6095543e3821fc32377dac2b7",
       "version_major": 2,
       "version_minor": 0
      },
      "text/plain": [
       "HBox(children=(IntProgress(value=0, description='Downloading', max=498637366, style=ProgressStyle(description_…"
      ]
     },
     "metadata": {},
     "output_type": "display_data"
    },
    {
     "name": "stderr",
     "output_type": "stream",
     "text": [
      "10/11/2020 16:29:33 - INFO - filelock -   Lock 140402708607056 released on /Users/j.zhang/.cache/torch/transformers/8c0c8b6371111ac5fbc176aefcf9dbe129db7be654c569b8375dd3712fc4dc67.d045adc91e17ecdf7dc3eeff4c875df94bdf2eb749d72b3ae47ae93f8e85213c.lock\n"
     ]
    },
    {
     "name": "stdout",
     "output_type": "stream",
     "text": [
      "\n"
     ]
    },
    {
     "name": "stderr",
     "output_type": "stream",
     "text": [
      "10/11/2020 16:29:37 - WARNING - farm.modeling.language_model -   Could not automatically detect from language model name what language it is. \n",
      "\t We guess it's an *ENGLISH* model ... \n",
      "\t If not: Init the language model by supplying the 'language' param.\n",
      "10/11/2020 16:29:41 - WARNING - farm.modeling.prediction_head -   Some unused parameters are passed to the QuestionAnsweringHead. Might not be a problem. Params: {\"loss_ignore_index\": -1}\n",
      "10/11/2020 16:29:43 - INFO - filelock -   Lock 140402719683024 acquired on /Users/j.zhang/.cache/torch/transformers/1e3af82648d7190d959a9d76d727ef629b1ca51b3da6ad04039122453cb56307.6a4061e8fc00057d21d80413635a86fdcf55b6e7594ad9e25257d2f99a02f4be.lock\n"
     ]
    },
    {
     "data": {
      "application/vnd.jupyter.widget-view+json": {
       "model_id": "40b5488f7f8c4f2c95e339a96050c676",
       "version_major": 2,
       "version_minor": 0
      },
      "text/plain": [
       "HBox(children=(IntProgress(value=0, description='Downloading', max=898822, style=ProgressStyle(description_wid…"
      ]
     },
     "metadata": {},
     "output_type": "display_data"
    },
    {
     "name": "stderr",
     "output_type": "stream",
     "text": [
      "10/11/2020 16:29:44 - INFO - filelock -   Lock 140402719683024 released on /Users/j.zhang/.cache/torch/transformers/1e3af82648d7190d959a9d76d727ef629b1ca51b3da6ad04039122453cb56307.6a4061e8fc00057d21d80413635a86fdcf55b6e7594ad9e25257d2f99a02f4be.lock\n"
     ]
    },
    {
     "name": "stdout",
     "output_type": "stream",
     "text": [
      "\n"
     ]
    },
    {
     "name": "stderr",
     "output_type": "stream",
     "text": [
      "10/11/2020 16:29:44 - INFO - filelock -   Lock 140402719908816 acquired on /Users/j.zhang/.cache/torch/transformers/b901c69e8e7da4a24c635ad81d016d274f174261f4f5c144e43f4b00e242c3b0.70bec105b4158ed9a1747fea67a43f5dee97855c64d62b6ec3742f4cfdb5feda.lock\n"
     ]
    },
    {
     "data": {
      "application/vnd.jupyter.widget-view+json": {
       "model_id": "aa3b0195a0204c419da72f96b940faf5",
       "version_major": 2,
       "version_minor": 0
      },
      "text/plain": [
       "HBox(children=(IntProgress(value=0, description='Downloading', max=456318, style=ProgressStyle(description_wid…"
      ]
     },
     "metadata": {},
     "output_type": "display_data"
    },
    {
     "name": "stderr",
     "output_type": "stream",
     "text": [
      "10/11/2020 16:29:45 - INFO - filelock -   Lock 140402719908816 released on /Users/j.zhang/.cache/torch/transformers/b901c69e8e7da4a24c635ad81d016d274f174261f4f5c144e43f4b00e242c3b0.70bec105b4158ed9a1747fea67a43f5dee97855c64d62b6ec3742f4cfdb5feda.lock\n"
     ]
    },
    {
     "name": "stdout",
     "output_type": "stream",
     "text": [
      "\n"
     ]
    },
    {
     "name": "stderr",
     "output_type": "stream",
     "text": [
      "10/11/2020 16:29:46 - INFO - filelock -   Lock 140402720059856 acquired on /Users/j.zhang/.cache/torch/transformers/2d9b03b59a8af464bf4238025a3cf0e5a340b9d0ba77400011e23c130b452510.16f949018cf247a2ea7465a74ca9a292212875e5fd72f969e0807011e7f192e4.lock\n"
     ]
    },
    {
     "data": {
      "application/vnd.jupyter.widget-view+json": {
       "model_id": "96fe39bde6274a4aba7f99a114bd3e74",
       "version_major": 2,
       "version_minor": 0
      },
      "text/plain": [
       "HBox(children=(IntProgress(value=0, description='Downloading', max=150, style=ProgressStyle(description_width=…"
      ]
     },
     "metadata": {},
     "output_type": "display_data"
    },
    {
     "name": "stderr",
     "output_type": "stream",
     "text": [
      "10/11/2020 16:29:47 - INFO - filelock -   Lock 140402720059856 released on /Users/j.zhang/.cache/torch/transformers/2d9b03b59a8af464bf4238025a3cf0e5a340b9d0ba77400011e23c130b452510.16f949018cf247a2ea7465a74ca9a292212875e5fd72f969e0807011e7f192e4.lock\n"
     ]
    },
    {
     "name": "stdout",
     "output_type": "stream",
     "text": [
      "\n"
     ]
    },
    {
     "name": "stderr",
     "output_type": "stream",
     "text": [
      "10/11/2020 16:29:47 - INFO - filelock -   Lock 140402720675344 acquired on /Users/j.zhang/.cache/torch/transformers/507984f2e28c7dfed5db9a20acd68beb969c7f2833abc9e582e967fa0291f3dc.100c88dbe27dbd73822c575274ade4eb2427596ac56e96769249b7512341654d.lock\n"
     ]
    },
    {
     "data": {
      "application/vnd.jupyter.widget-view+json": {
       "model_id": "367c18b98cb1460098600f3dfee36347",
       "version_major": 2,
       "version_minor": 0
      },
      "text/plain": [
       "HBox(children=(IntProgress(value=0, description='Downloading', max=189, style=ProgressStyle(description_width=…"
      ]
     },
     "metadata": {},
     "output_type": "display_data"
    },
    {
     "name": "stderr",
     "output_type": "stream",
     "text": [
      "10/11/2020 16:29:47 - INFO - filelock -   Lock 140402720675344 released on /Users/j.zhang/.cache/torch/transformers/507984f2e28c7dfed5db9a20acd68beb969c7f2833abc9e582e967fa0291f3dc.100c88dbe27dbd73822c575274ade4eb2427596ac56e96769249b7512341654d.lock\n"
     ]
    },
    {
     "name": "stdout",
     "output_type": "stream",
     "text": [
      "\n"
     ]
    },
    {
     "name": "stderr",
     "output_type": "stream",
     "text": [
      "10/11/2020 16:29:48 - INFO - farm.utils -   device: cpu n_gpu: 0, distributed training: False, automatic mixed precision training: None\n",
      "10/11/2020 16:29:48 - INFO - farm.infer -   Got ya 7 parallel workers to do inference ...\n",
      "10/11/2020 16:29:48 - INFO - farm.infer -    0    0    0    0    0    0    0 \n",
      "10/11/2020 16:29:48 - INFO - farm.infer -   /w\\  /w\\  /w\\  /w\\  /w\\  /w\\  /w\\\n",
      "10/11/2020 16:29:48 - INFO - farm.infer -   /'\\  / \\  /'\\  /'\\  / \\  / \\  /'\\\n",
      "10/11/2020 16:29:48 - INFO - farm.infer -               \n",
      "Process ForkPoolWorker-4:\n",
      "Process ForkPoolWorker-6:\n",
      "Process ForkPoolWorker-1:\n",
      "Process ForkPoolWorker-5:\n",
      "Process ForkPoolWorker-2:\n",
      "Process ForkPoolWorker-3:\n",
      "Process ForkPoolWorker-7:\n",
      "Traceback (most recent call last):\n",
      "Traceback (most recent call last):\n",
      "Traceback (most recent call last):\n",
      "Traceback (most recent call last):\n",
      "Traceback (most recent call last):\n",
      "Traceback (most recent call last):\n",
      "  File \"/opt/anaconda3/lib/python3.7/multiprocessing/process.py\", line 297, in _bootstrap\n",
      "    self.run()\n",
      "  File \"/opt/anaconda3/lib/python3.7/multiprocessing/process.py\", line 297, in _bootstrap\n",
      "    self.run()\n",
      "  File \"/opt/anaconda3/lib/python3.7/multiprocessing/process.py\", line 297, in _bootstrap\n",
      "    self.run()\n",
      "  File \"/opt/anaconda3/lib/python3.7/multiprocessing/process.py\", line 297, in _bootstrap\n",
      "    self.run()\n",
      "  File \"/opt/anaconda3/lib/python3.7/multiprocessing/process.py\", line 297, in _bootstrap\n",
      "    self.run()\n",
      "  File \"/opt/anaconda3/lib/python3.7/multiprocessing/process.py\", line 297, in _bootstrap\n",
      "    self.run()\n",
      "Traceback (most recent call last):\n",
      "  File \"/opt/anaconda3/lib/python3.7/multiprocessing/process.py\", line 99, in run\n",
      "    self._target(*self._args, **self._kwargs)\n",
      "  File \"/opt/anaconda3/lib/python3.7/multiprocessing/process.py\", line 99, in run\n",
      "    self._target(*self._args, **self._kwargs)\n",
      "  File \"/opt/anaconda3/lib/python3.7/multiprocessing/process.py\", line 99, in run\n",
      "    self._target(*self._args, **self._kwargs)\n",
      "  File \"/opt/anaconda3/lib/python3.7/multiprocessing/process.py\", line 99, in run\n",
      "    self._target(*self._args, **self._kwargs)\n",
      "  File \"/opt/anaconda3/lib/python3.7/multiprocessing/process.py\", line 99, in run\n",
      "    self._target(*self._args, **self._kwargs)\n",
      "  File \"/opt/anaconda3/lib/python3.7/multiprocessing/process.py\", line 297, in _bootstrap\n",
      "    self.run()\n",
      "  File \"/opt/anaconda3/lib/python3.7/multiprocessing/process.py\", line 99, in run\n",
      "    self._target(*self._args, **self._kwargs)\n",
      "  File \"/opt/anaconda3/lib/python3.7/multiprocessing/pool.py\", line 110, in worker\n",
      "    task = get()\n",
      "  File \"/opt/anaconda3/lib/python3.7/multiprocessing/pool.py\", line 110, in worker\n",
      "    task = get()\n",
      "  File \"/opt/anaconda3/lib/python3.7/multiprocessing/pool.py\", line 110, in worker\n",
      "    task = get()\n",
      "  File \"/opt/anaconda3/lib/python3.7/multiprocessing/pool.py\", line 110, in worker\n",
      "    task = get()\n",
      "  File \"/opt/anaconda3/lib/python3.7/multiprocessing/pool.py\", line 110, in worker\n",
      "    task = get()\n",
      "  File \"/opt/anaconda3/lib/python3.7/multiprocessing/process.py\", line 99, in run\n",
      "    self._target(*self._args, **self._kwargs)\n",
      "  File \"/opt/anaconda3/lib/python3.7/multiprocessing/pool.py\", line 110, in worker\n",
      "    task = get()\n",
      "  File \"/opt/anaconda3/lib/python3.7/multiprocessing/queues.py\", line 351, in get\n",
      "    with self._rlock:\n",
      "  File \"/opt/anaconda3/lib/python3.7/multiprocessing/queues.py\", line 351, in get\n",
      "    with self._rlock:\n",
      "  File \"/opt/anaconda3/lib/python3.7/multiprocessing/queues.py\", line 351, in get\n",
      "    with self._rlock:\n",
      "  File \"/opt/anaconda3/lib/python3.7/multiprocessing/queues.py\", line 351, in get\n",
      "    with self._rlock:\n",
      "  File \"/opt/anaconda3/lib/python3.7/multiprocessing/queues.py\", line 352, in get\n",
      "    res = self._reader.recv_bytes()\n",
      "  File \"/opt/anaconda3/lib/python3.7/multiprocessing/pool.py\", line 110, in worker\n",
      "    task = get()\n",
      "  File \"/opt/anaconda3/lib/python3.7/multiprocessing/queues.py\", line 351, in get\n",
      "    with self._rlock:\n",
      "  File \"/opt/anaconda3/lib/python3.7/multiprocessing/synchronize.py\", line 95, in __enter__\n",
      "    return self._semlock.__enter__()\n",
      "  File \"/opt/anaconda3/lib/python3.7/multiprocessing/synchronize.py\", line 95, in __enter__\n",
      "    return self._semlock.__enter__()\n",
      "  File \"/opt/anaconda3/lib/python3.7/multiprocessing/synchronize.py\", line 95, in __enter__\n",
      "    return self._semlock.__enter__()\n",
      "  File \"/opt/anaconda3/lib/python3.7/multiprocessing/synchronize.py\", line 95, in __enter__\n",
      "    return self._semlock.__enter__()\n",
      "  File \"/opt/anaconda3/lib/python3.7/multiprocessing/queues.py\", line 351, in get\n",
      "    with self._rlock:\n",
      "  File \"/opt/anaconda3/lib/python3.7/multiprocessing/connection.py\", line 216, in recv_bytes\n",
      "    buf = self._recv_bytes(maxlength)\n",
      "  File \"/opt/anaconda3/lib/python3.7/multiprocessing/synchronize.py\", line 95, in __enter__\n",
      "    return self._semlock.__enter__()\n",
      "KeyboardInterrupt\n",
      "KeyboardInterrupt\n",
      "KeyboardInterrupt\n",
      "KeyboardInterrupt\n",
      "  File \"/opt/anaconda3/lib/python3.7/multiprocessing/connection.py\", line 407, in _recv_bytes\n",
      "    buf = self._recv(4)\n",
      "  File \"/opt/anaconda3/lib/python3.7/multiprocessing/synchronize.py\", line 95, in __enter__\n",
      "    return self._semlock.__enter__()\n",
      "KeyboardInterrupt\n",
      "  File \"/opt/anaconda3/lib/python3.7/multiprocessing/connection.py\", line 379, in _recv\n",
      "    chunk = read(handle, remaining)\n",
      "KeyboardInterrupt\n",
      "KeyboardInterrupt\n"
     ]
    }
   ],
   "source": [
    "reader = FARMReader(model_name_or_path=\"deepset/roberta-base-squad2\", use_gpu=False)"
   ]
  },
  {
   "cell_type": "code",
   "execution_count": 14,
   "metadata": {},
   "outputs": [],
   "source": [
    "finder = Finder(reader, retriever)"
   ]
  },
  {
   "cell_type": "code",
   "execution_count": 15,
   "metadata": {},
   "outputs": [
    {
     "name": "stderr",
     "output_type": "stream",
     "text": [
      "10/11/2020 16:30:19 - INFO - elasticsearch -   POST http://localhost:9200/document/_search [status:200 request:0.194s]\n",
      "10/11/2020 16:30:19 - INFO - haystack.retriever.sparse -   Got 10 candidates from retriever\n",
      "10/11/2020 16:30:19 - INFO - haystack.finder -   Reader is looking for detailed answer in 12544 chars ...\n",
      "Inferencing Samples: 100%|██████████| 1/1 [00:00<00:00,  2.78 Batches/s]\n",
      "Inferencing Samples: 100%|██████████| 1/1 [00:00<00:00,  3.97 Batches/s]\n",
      "Inferencing Samples: 100%|██████████| 1/1 [00:00<00:00,  1.32 Batches/s]\n",
      "Inferencing Samples: 100%|██████████| 1/1 [00:00<00:00,  1.84 Batches/s]\n",
      "Inferencing Samples: 100%|██████████| 1/1 [00:00<00:00,  2.02 Batches/s]\n",
      "Inferencing Samples: 100%|██████████| 1/1 [00:00<00:00,  2.94 Batches/s]\n",
      "Inferencing Samples: 100%|██████████| 1/1 [00:00<00:00,  4.02 Batches/s]\n",
      "Inferencing Samples: 100%|██████████| 1/1 [00:01<00:00,  1.59s/ Batches]\n",
      "Inferencing Samples: 100%|██████████| 1/1 [00:00<00:00,  1.58 Batches/s]\n",
      "Inferencing Samples: 100%|██████████| 1/1 [00:00<00:00,  2.04 Batches/s]\n"
     ]
    }
   ],
   "source": [
    "prediction = finder.get_answers(question=\"Who is the father of Arya Stark?\", top_k_retriever=10, top_k_reader=5)"
   ]
  },
  {
   "cell_type": "code",
   "execution_count": 18,
   "metadata": {},
   "outputs": [
    {
     "name": "stdout",
     "output_type": "stream",
     "text": [
      "[   {   'answer': 'Lord Eddard Stark',\n",
      "        'context': 'ark daughters.\\n'\n",
      "                   'During the Tourney of the Hand to honour her father Lord '\n",
      "                   'Eddard Stark, Sansa Stark is enchanted by the knights '\n",
      "                   'performing in the event.'},\n",
      "    {   'answer': 'Eddard',\n",
      "        'context': 's Nymeria after a legendary warrior queen. She travels '\n",
      "                   \"with her father, Eddard, to King's Landing when he is made \"\n",
      "                   'Hand of the King. Before she leaves,'},\n",
      "    {   'answer': 'Tywin',\n",
      "        'context': 'Stark marrying two of his children.\\n'\n",
      "                   'Tyrion Lannister suspects his father Tywin, who decides '\n",
      "                   'Tyrion and his barbarians will fight in the vanguard, '\n",
      "                   'want'},\n",
      "    {   'answer': 'Yoren',\n",
      "        'context': \" Baelor the Blessed. Ned notices Arya and alerts Night's \"\n",
      "                   'Watch recruiter Yoren. Before Sansa, Cersei Lannister, '\n",
      "                   'Joffrey and the Small Council, Ned con'},\n",
      "    {   'answer': 'Balon',\n",
      "        'context': \"sgusted, Robb acquiesces to Theon's further captivity, as \"\n",
      "                   \"Theon's father Balon has recently died and Theon's absence \"\n",
      "                   'presents a succession crisis for '}]\n"
     ]
    }
   ],
   "source": [
    "print_answers(prediction, details=\"minimal\")"
   ]
  },
  {
   "cell_type": "code",
   "execution_count": null,
   "metadata": {},
   "outputs": [],
   "source": []
  }
 ],
 "metadata": {
  "kernelspec": {
   "display_name": "Python 3",
   "language": "python",
   "name": "python3"
  },
  "language_info": {
   "codemirror_mode": {
    "name": "ipython",
    "version": 3
   },
   "file_extension": ".py",
   "mimetype": "text/x-python",
   "name": "python",
   "nbconvert_exporter": "python",
   "pygments_lexer": "ipython3",
   "version": "3.7.6"
  }
 },
 "nbformat": 4,
 "nbformat_minor": 4
}
