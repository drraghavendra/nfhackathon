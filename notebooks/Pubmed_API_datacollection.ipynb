{
 "cells": [
  {
   "cell_type": "code",
   "execution_count": 1,
   "metadata": {},
   "outputs": [
    {
     "name": "stdout",
     "output_type": "stream",
     "text": [
      "Collecting pymed\n",
      "  Downloading pymed-0.8.9-py3-none-any.whl (9.6 kB)\n",
      "Requirement already satisfied: requests>=2.20.0 in /opt/anaconda3/lib/python3.7/site-packages (from pymed) (2.24.0)\n",
      "Requirement already satisfied: idna<3,>=2.5 in /opt/anaconda3/lib/python3.7/site-packages (from requests>=2.20.0->pymed) (2.8)\n",
      "Requirement already satisfied: urllib3!=1.25.0,!=1.25.1,<1.26,>=1.21.1 in /opt/anaconda3/lib/python3.7/site-packages (from requests>=2.20.0->pymed) (1.24.2)\n",
      "Requirement already satisfied: chardet<4,>=3.0.2 in /opt/anaconda3/lib/python3.7/site-packages (from requests>=2.20.0->pymed) (3.0.4)\n",
      "Requirement already satisfied: certifi>=2017.4.17 in /opt/anaconda3/lib/python3.7/site-packages (from requests>=2.20.0->pymed) (2019.11.28)\n",
      "Installing collected packages: pymed\n",
      "Successfully installed pymed-0.8.9\n"
     ]
    }
   ],
   "source": [
    "!pip install pymed"
   ]
  },
  {
   "cell_type": "code",
   "execution_count": 2,
   "metadata": {},
   "outputs": [
    {
     "name": "stdout",
     "output_type": "stream",
     "text": [
      "Collecting entrezpy\n",
      "  Downloading entrezpy-2.1.1-py3-none-any.whl (97 kB)\n",
      "\u001b[K     |████████████████████████████████| 97 kB 716 kB/s eta 0:00:01\n",
      "\u001b[?25hInstalling collected packages: entrezpy\n",
      "Successfully installed entrezpy-2.1.1\n"
     ]
    }
   ],
   "source": [
    "!pip install entrezpy"
   ]
  },
  {
   "cell_type": "code",
   "execution_count": 14,
   "metadata": {},
   "outputs": [
    {
     "name": "stdout",
     "output_type": "stream",
     "text": [
      "Collecting biopython\n",
      "  Downloading biopython-1.78-cp37-cp37m-macosx_10_9_x86_64.whl (2.2 MB)\n",
      "\u001b[K     |████████████████████████████████| 2.2 MB 146 kB/s eta 0:00:01\n",
      "\u001b[?25hRequirement already satisfied: numpy in /opt/anaconda3/lib/python3.7/site-packages (from biopython) (1.18.1)\n",
      "Installing collected packages: biopython\n",
      "Successfully installed biopython-1.78\n"
     ]
    }
   ],
   "source": [
    "!pip install biopython"
   ]
  },
  {
   "cell_type": "code",
   "execution_count": 1,
   "metadata": {},
   "outputs": [],
   "source": [
    "import Bio"
   ]
  },
  {
   "cell_type": "code",
   "execution_count": 2,
   "metadata": {},
   "outputs": [
    {
     "data": {
      "text/plain": [
       "'1.79.dev0'"
      ]
     },
     "execution_count": 2,
     "metadata": {},
     "output_type": "execute_result"
    }
   ],
   "source": [
    "Bio.__version__"
   ]
  },
  {
   "cell_type": "code",
   "execution_count": 21,
   "metadata": {},
   "outputs": [],
   "source": [
    "from Bio import Entrez\n",
    "import xml.etree.ElementTree as ET \n",
    "from bs4 import BeautifulSoup "
   ]
  },
  {
   "cell_type": "code",
   "execution_count": 2,
   "metadata": {},
   "outputs": [],
   "source": [
    "Entrez.email = 'jpzhangv@gmail.com'"
   ]
  },
  {
   "cell_type": "code",
   "execution_count": 3,
   "metadata": {},
   "outputs": [],
   "source": [
    "search_query = '(\"neurofibromatoses\"[MeSH Terms] OR \"neurofibromatoses\"[All Fields] OR \"neurofibromatosis\"[All Fields]) AND NF2[All Fields] AND \"open access\"[filter]'"
   ]
  },
  {
   "cell_type": "code",
   "execution_count": 4,
   "metadata": {},
   "outputs": [],
   "source": [
    "search_results = Entrez.read(Entrez.esearch(db=\"pmc\", term=search_query, retmax=10, usehistory=\"y\"))"
   ]
  },
  {
   "cell_type": "code",
   "execution_count": 5,
   "metadata": {},
   "outputs": [
    {
     "data": {
      "text/plain": [
       "'1200'"
      ]
     },
     "execution_count": 5,
     "metadata": {},
     "output_type": "execute_result"
    }
   ],
   "source": [
    "search_results[\"Count\"]"
   ]
  },
  {
   "cell_type": "code",
   "execution_count": 14,
   "metadata": {},
   "outputs": [],
   "source": [
    "handle = Entrez.efetch(db=\"pmc\", rettype=\"full\", retmode=\"xml\", retstart=0, retmax=int(search_results[\"Count\"]), webenv=search_results[\"WebEnv\"], query_key=search_results[\"QueryKey\"])"
   ]
  },
  {
   "cell_type": "code",
   "execution_count": 54,
   "metadata": {},
   "outputs": [],
   "source": [
    "#record = Entrez.read(handle, validate=False)"
   ]
  },
  {
   "cell_type": "code",
   "execution_count": 16,
   "metadata": {},
   "outputs": [
    {
     "data": {
      "text/plain": [
       "bytes"
      ]
     },
     "execution_count": 16,
     "metadata": {},
     "output_type": "execute_result"
    }
   ],
   "source": [
    "text = handle.read()\n",
    "type(text)"
   ]
  },
  {
   "cell_type": "code",
   "execution_count": 19,
   "metadata": {},
   "outputs": [
    {
     "data": {
      "text/plain": [
       "186670066"
      ]
     },
     "execution_count": 19,
     "metadata": {},
     "output_type": "execute_result"
    }
   ],
   "source": [
    "len(text)"
   ]
  },
  {
   "cell_type": "code",
   "execution_count": 24,
   "metadata": {},
   "outputs": [
    {
     "data": {
      "text/plain": [
       "b'<?xml version=\"1.0\" ?>\\n<!DOCTYPE pmc-articleset PUBLIC \"-//NLM//DTD ARTICLE SET 2.0//EN\" \"https://dtd.nlm.nih.gov/ncbi/pmc/articleset/nlm-articleset-2.0.dtd\">\\n<pmc-articleset><article xmlns:xlink=\"http://www.w3.org/1999/xlink\" xmlns:mml=\"http://www.w3.org/1998/Math/MathML\" article-type=\"research-article\">\\n  <?properties open_access?>\\n  <front>\\n    <journal-meta>\\n      <journal-id journal-id-type=\"nlm-ta\">JCI Insight</journal-id>\\n      <journal-id journal-id-type=\"iso-abbrev\">JCI Insight</journal-id>\\n      <journal-id journal-id-type=\"publisher-id\">JCI Insight</journal-id>\\n      <journal-title-group>\\n        <journal-title>JCI Insight</journal-title>\\n      </journal-title-group>\\n      <issn pub-type=\"epub\">2379-3708</issn>\\n      <publisher>\\n        <publisher-name>American Society for Clinical Investigation</publisher-name>\\n      </publisher>\\n    </journal-meta>\\n    <article-meta>\\n      <article-id pub-id-type=\"pmid\">32960816</article-id>\\n      <article-id pub-id-type=\"pmc\">7605536</article-id>\\n      <article-id pub-id-type=\"publisher-id\">141514</article-id>\\n      <article-id pub-id-type=\"doi\">10.1172/jci.insight.141514</article-id>\\n      <article-categories>\\n        <subj-group subj-group-type=\"heading\">\\n          <subject>Research Article</subject>\\n        </subj-group>\\n      </article-categories>\\n      <title-group>\\n        <article-title>Schwannoma development is mediated by Hippo pathway dysregulation and modified by RAS/MAPK signaling</article-title>\\n      </title-group>\\n      <contrib-group>\\n        <contrib contrib-type=\"author\">\\n          <contrib-id contrib-id-type=\"orcid\" authenticated=\"true\">http://orcid.org/0000-0001-6451-2265</contrib-id>\\n          <name>\\n            <surname>Chen</surname>\\n            <given-names>Zhiguo</given-names>\\n          </name>\\n          <email>Zhiguo.Chen@UTSouthwestern.edu</email>\\n          <xref ref-type=\"aff\" rid=\"A1\">1</xref>\\n        </contrib>\\n        <contrib contrib-type=\"author\">\\n          <contrib-id contrib-id-type=\"orcid\" authenticated=\"true\">http://orcid.org/0000-0001-5010-771X</contrib-id>\\n          <name>\\n            <surname>Li</surname>\\n            <given-names>Stephen</given-names>\\n          </name>\\n          <email>Stephen.Li@UTSouthwestern.edu</email>\\n          <xref ref-type=\"aff\" rid=\"A1\">1</xref>\\n          <xref ref-type=\"aff\" rid=\"A2\">2</xref>\\n        </contrib>\\n        <contrib contrib-type=\"author\">\\n          <name>\\n            <surname>Mo</surname>\\n            <given-names>Juan</given-names>\\n          </name>\\n          <email>Juan.Mo@UTSouthwestern.edu</email>\\n          <xref ref-type=\"aff\" rid=\"A1\">1</xref>\\n        </contrib>\\n        <contrib contrib-type=\"author\">\\n          <name>\\n            <surname>Hawley</surname>\\n            <given-names>Eric</given-names>\\n          </name>\\n          <xref ref-type=\"aff\" rid=\"A3\">3</xref>\\n        </contrib>\\n        <contrib contrib-type=\"author\">\\n          <name>\\n            <surname>Wang</surname>\\n            <given-names>Yong</given-names>\\n          </name>\\n          <email>Yong.Wang@UTSouthwestern.edu</email>\\n          <xref ref-type=\"aff\" rid=\"A1\">1</xref>\\n        </contrib>\\n        <contrib contrib-type=\"author\">\\n          <contrib-id contrib-id-type=\"orcid\" authenticated=\"true\">http://orcid.org/0000-0001-8491-3103</contrib-id>\\n          <name>\\n            <surname>He</surname>\\n            <given-names>Yongzheng</given-names>\\n          </name>\\n          <email>yonhe@iu.edu</email>\\n          <xref ref-type=\"aff\" rid=\"A3\">3</xref>\\n        </contrib>\\n        <contrib contrib-type=\"author\">\\n          <name>\\n            <surname>Brosseau</surname>\\n            <given-names>Jean-Philippe</given-names>\\n          </name>\\n          <email>Jean-Philippe.Brosseau@usherbrooke.ca</email>\\n          <xref ref-type=\"aff\" rid=\"A1\">1</xref>\\n        </contrib>\\n        <contrib contrib-type=\"author\">\\n          <name>\\n            <surname>Shipman</surname>\\n            <given-names>Tracey</given-names>\\n          </name>\\n          <email>Tracey.Shipman@UTSouthwestern.edu</email>\\n          <xref ref-type=\"aff\" rid=\"A1\">1</xref>\\n        </contrib>\\n        <contrib contrib-type=\"author\">\\n          <name>\\n            <surname>Clapp</surname>\\n            <given-names>D. Wade</given-names>\\n          </name>\\n          <email>dclapp@iu.edu</email>\\n          <xref ref-type=\"aff\" rid=\"A3\">3</xref>\\n        </contrib>\\n        <contrib contrib-type=\"author\">\\n          <contrib-id contrib-id-type=\"orcid\" authenticated=\"true\">http://orcid.org/0000-0002-8322-4928</contrib-id>\\n          <name>\\n            <surname>Carroll</surname>\\n            <given-names>Thomas J.</given-names>\\n          </name>\\n          <email>thomas.carroll@utsouthwestern.edu</email>\\n          <xref ref-type=\"aff\" rid=\"A4\">4</xref>\\n          <xref ref-type=\"aff\" rid=\"A5\">5</xref>\\n        </contrib>\\n        <contrib contrib-type=\"author\" corresp=\"yes\">\\n          <contrib-id contrib-id-type=\"orcid\" authenticated=\"true\">http://orcid.org/0000-0003-2817-5382</contrib-id>\\n          <name>\\n            <surname>Le</surname>\\n            <given-names>Lu Q.</given-names>\\n          </name>\\n          <email>lu.le@utsouthwestern.edu</email>\\n          <xref ref-type=\"aff\" rid=\"A1\">1</xref>\\n          <xref ref-type=\"aff\" rid=\"A5\">5</xref>\\n          <xref ref-type=\"aff\" rid=\"A6\">6</xref>\\n        </contrib>\\n      </contrib-group>\\n      <aff id=\"A1\"><label>1</label>Department of Dermatology and</aff>\\n      <aff id=\"A2\"><label>2</label>Medical Scientist Training Program, University of Texas (UT) Southwestern Medical Center, Dallas, Texas, USA.</aff>\\n      <aff id=\"A3\"><label>3</label>Department of Pediatrics, Indiana University School of Medicine, Indianapolis, Indiana, USA.</aff>\\n      <aff id=\"A4\"><label>4</label>Department of Molecular Biology,</aff>\\n      <aff id=\"A5\"><label>5</label>Simmons Comprehensive Cancer Center, and</aff>\\n      <aff id=\"A6\"><label>6</label>Comprehensive Neurofibromatosis Clinic, UT Southwestern Medical Center, Dallas, Texas, USA.</aff>\\n      <author-notes>\\n        <corresp>Address correspondence to: Lu Q. Le, Department of Dermatology, Simmons Comprehensive Cancer Center, Hamon Center for Regenerative Science and Medicine, UT Southwestern Medical Center, 5323 Harry Hines Blvd., Dallas, Texas, USA. Phone: 214.648.5781; Email: <email>lu.le@utsouthwestern.edu</email>.</corresp>\\n      </author-notes>\\n      <pub-date date-type=\"pub\" publication-format=\"electronic\" iso-8601-date=\"2020-10-15T09:00:00-0400\">\\n        <day>15</day>\\n        <month>10</month>\\n        <year>2020</year>\\n      </pub-date>\\n      <pub-date date-type=\"collection\" publication-format=\"electronic\" iso-8601-date=\"2020-10-15T09:00:00-0400\">\\n        <day>15</day>\\n        <month>10</month>\\n        <year>2020</year>\\n      </pub-date>\\n      <pub-date pub-type=\"pmc-release\">\\n        <day>15</day>\\n        <month>10</month>\\n        <year>2020</year>\\n      </pub-date>\\n      <!-- PMC Release delay is 0 months and 0 days and was based on the <pub-date pub-type=\"epub\"/>. -->\\n      <volume>5</volume>\\n      <issue>20</issue>\\n      <elocation-id>e141514</elocation-id>\\n      <history>\\n        <date date-type=\"received\">\\n          <day>19</day>\\n          <month>6</month>\\n          <year>2020</year>\\n        </date>\\n        <date date-type=\"accepted\">\\n          <day>11</day>\\n          <month>9</month>\\n          <year>2020</year>\\n        </date>\\n      </history>\\n      <permissions>\\n        <copyright-statement>&#xA9; 2020 Chen et al.</copyright-statement>\\n        <copyright-year>2020</copyright-year>\\n        <copyright-holder>Chen et al.</copyright-holder>\\n        <license xlink:href=\"http://creativecommons.org/licenses/by/4.0/\">\\n          <license-p><!--CREATIVE COMMONS-->This work is licensed under the Creative Commons Attribution 4.0 International License. To view a copy of this license, visit <ext-link ext-link-type=\"uri\" xlink:href=\"http://creativecommons.org/licenses/by/4.0/\">http://creativecommons.org/licenses/by/4.0/</ext-link>.</license-p>\\n        </license>\\n      </permissions>\\n      <self-uri xlink:href=\"https://insight.jci.org/articles/view/141514\">This article is available online at https://insight.jci.org/articles/view/141514</self-uri>\\n      <abstract>\\n        <p>Schwannomas are tumors of the Schwann cells that cause chronic pain, numbness, and potentially life-threatening impairment of vital organs. Despite the identification of causative genes, including NF2 (Merlin), INI1/SMARCB1, and LZTR1, the exact molecular mechanism of schwannoma development is still poorly understood. Several studies have identified Merlin as a key regulator of the Hippo, MAPK, and PI3K signaling pathways; however, definitive evidence demonstrating the importance of these pathways in schwannoma pathogenesis is absent. Here, we provide direct genetic evidence that dysregulation of the Hippo pathway in the Schwann cell lineage causes development of multiple schwannomas in mice. We found that canonical Hippo signaling through the effectors YAP/TAZ is required for schwannomagenesis and that MAPK signaling modifies schwannoma formation. Furthermore, cotargeting YAP/TAZ transcriptional activity and MAPK signaling demonstrated a synergistic therapeutic effect on schwannomas. Our new model provides a tractable platform to dissect the molecular mechanisms underpinning schwannoma formation and the role of combinatorial targeted therapy in schwannoma treatment.</p>\\n      </abstract>\\n      <abstract abstract-type=\"graphical\">\\n        <p>\\n<graphic xlink:href=\"jciinsight-5-141514-g222.jpg\" position=\"float\" orientation=\"portrait\"/>\\n</p>\\n      </abstract>\\n      <abstract abstract-type=\"toc\">\\n        <p>Canonical Hippo signaling through the effectors YAP/TAZ is required for the development of peripheral nervous system tumors of Schwann cells, and MAPK signaling modifies schwannoma formation.</p>\\n      </abstract>\\n      <kwd-group kwd-group-type=\"specialties\">\\n        <kwd>Genetics</kwd>\\n        <kwd>Oncology</kwd>\\n      </kwd-group>\\n      <kwd'"
      ]
     },
     "execution_count": 24,
     "metadata": {},
     "output_type": "execute_result"
    }
   ],
   "source": [
    "text[:10000]"
   ]
  },
  {
   "cell_type": "code",
   "execution_count": 17,
   "metadata": {},
   "outputs": [
    {
     "data": {
      "text/plain": [
       "b'tes, one was derived from a neurofibromatosis patient and the other from an A-T heterozygote. When SV40 DNA was employed as the transforming agent for the latter, the transformation rate was no longer raised.</p>\\n        <sec sec-type=\"scanned-figures\">\\n          <title>Images</title>\\n          <fig id=\"F1\">\\n            <label>Fig. 1</label>\\n            <graphic xlink:href=\"brjcancer00296-0052-a\" xlink:role=\"586\"/>\\n          </fig>\\n          <fig id=\"F2\">\\n            <label>Fig. 2</label>\\n            <graphic xlink:href=\"brjcancer00296-0053-a\" xlink:role=\"587\"/>\\n          </fig>\\n        </sec>\\n      </abstract>\\n    </article-meta>\\n  </front>\\n  <body>\\n    <supplementary-material content-type=\"scanned-pages\">\\n      <graphic xlink:href=\"brjcancer00296-0049.tif\" xlink:title=\"scanned-page\" xlink:role=\"583\" mimetype=\"image\" mime-subtype=\"tiff\"/>\\n      <graphic xlink:href=\"brjcancer00296-0050.tif\" xlink:title=\"scanned-page\" xlink:role=\"584\" mimetype=\"image\" mime-subtype=\"tiff\"/>\\n      <graphic xlink:href=\"brjcancer00296-0051.tif\" xlink:title=\"scanned-page\" xlink:role=\"585\" mimetype=\"image\" mime-subtype=\"tiff\"/>\\n      <graphic xlink:href=\"brjcancer00296-0052.tif\" xlink:title=\"scanned-page\" xlink:role=\"586\" mimetype=\"image\" mime-subtype=\"tiff\"/>\\n      <graphic xlink:href=\"brjcancer00296-0053.tif\" xlink:title=\"scanned-page\" xlink:role=\"587\" mimetype=\"image\" mime-subtype=\"tiff\"/>\\n      <graphic xlink:href=\"brjcancer00296-0054.tif\" xlink:title=\"scanned-page\" xlink:role=\"588\" mimetype=\"image\" mime-subtype=\"tiff\"/>\\n      <graphic xlink:href=\"brjcancer00296-0055.tif\" xlink:title=\"scanned-page\" xlink:role=\"589\" mimetype=\"image\" mime-subtype=\"tiff\"/>\\n      <graphic xlink:href=\"brjcancer00296-0056.tif\" xlink:title=\"scanned-page\" xlink:role=\"590\" mimetype=\"image\" mime-subtype=\"tiff\"/>\\n      <graphic xlink:href=\"brjcancer00296-0057.tif\" xlink:title=\"scanned-page\" xlink:role=\"591\" mimetype=\"image\" mime-subtype=\"tiff\"/>\\n    </supplementary-material>\\n  </body>\\n</article>\\n</pmc-articleset>'"
      ]
     },
     "execution_count": 17,
     "metadata": {},
     "output_type": "execute_result"
    }
   ],
   "source": [
    "text[-2000:]"
   ]
  },
  {
   "cell_type": "code",
   "execution_count": 22,
   "metadata": {},
   "outputs": [
    {
     "data": {
      "text/plain": [
       "1200"
      ]
     },
     "execution_count": 22,
     "metadata": {},
     "output_type": "execute_result"
    }
   ],
   "source": [
    "text.count(b'article-id pub-id-type=\"pmc\"')"
   ]
  },
  {
   "cell_type": "code",
   "execution_count": 28,
   "metadata": {},
   "outputs": [
    {
     "data": {
      "text/plain": [
       "921"
      ]
     },
     "execution_count": 28,
     "metadata": {},
     "output_type": "execute_result"
    }
   ],
   "source": [
    "text.count(b'<abstract>')"
   ]
  },
  {
   "cell_type": "code",
   "execution_count": 63,
   "metadata": {},
   "outputs": [
    {
     "data": {
      "text/plain": [
       "75296"
      ]
     },
     "execution_count": 63,
     "metadata": {},
     "output_type": "execute_result"
    }
   ],
   "source": [
    "text.count(b'<article-title>')"
   ]
  },
  {
   "cell_type": "code",
   "execution_count": 26,
   "metadata": {},
   "outputs": [
    {
     "data": {
      "text/plain": [
       "150637"
      ]
     },
     "execution_count": 26,
     "metadata": {},
     "output_type": "execute_result"
    }
   ],
   "source": [
    "text.count(b'article-title')"
   ]
  },
  {
   "cell_type": "code",
   "execution_count": 22,
   "metadata": {},
   "outputs": [],
   "source": [
    "pmc_paper_data = BeautifulSoup(text, \"xml\") "
   ]
  },
  {
   "cell_type": "code",
   "execution_count": 30,
   "metadata": {},
   "outputs": [
    {
     "data": {
      "text/plain": [
       "{'abstract',\n",
       " 'ack',\n",
       " 'addr-line',\n",
       " 'address',\n",
       " 'aff',\n",
       " 'alt-text',\n",
       " 'alt-title',\n",
       " 'alternatives',\n",
       " 'annotation',\n",
       " 'anonymous',\n",
       " 'app',\n",
       " 'app-group',\n",
       " 'array',\n",
       " 'article',\n",
       " 'article-categories',\n",
       " 'article-id',\n",
       " 'article-meta',\n",
       " 'article-title',\n",
       " 'article-version',\n",
       " 'attrib',\n",
       " 'author-comment',\n",
       " 'author-notes',\n",
       " 'award-group',\n",
       " 'award-id',\n",
       " 'back',\n",
       " 'bio',\n",
       " 'body',\n",
       " 'bold',\n",
       " 'boxed-text',\n",
       " 'break',\n",
       " 'caption',\n",
       " 'chapter-title',\n",
       " 'citation',\n",
       " 'city',\n",
       " 'col',\n",
       " 'colgroup',\n",
       " 'collab',\n",
       " 'comment',\n",
       " 'compound-subject',\n",
       " 'compound-subject-part',\n",
       " 'conf-date',\n",
       " 'conf-loc',\n",
       " 'conf-name',\n",
       " 'conference',\n",
       " 'contrib',\n",
       " 'contrib-group',\n",
       " 'contrib-id',\n",
       " 'copyright-holder',\n",
       " 'copyright-statement',\n",
       " 'copyright-year',\n",
       " 'corresp',\n",
       " 'country',\n",
       " 'counts',\n",
       " 'custom-meta',\n",
       " 'custom-meta-group',\n",
       " 'date',\n",
       " 'date-in-citation',\n",
       " 'day',\n",
       " 'def',\n",
       " 'def-item',\n",
       " 'def-list',\n",
       " 'degrees',\n",
       " 'disp-formula',\n",
       " 'disp-quote',\n",
       " 'edition',\n",
       " 'element-citation',\n",
       " 'elocation-id',\n",
       " 'email',\n",
       " 'equation-count',\n",
       " 'etal',\n",
       " 'ext-link',\n",
       " 'fax',\n",
       " 'fig',\n",
       " 'fig-count',\n",
       " 'floats-group',\n",
       " 'floats-wrap',\n",
       " 'fn',\n",
       " 'fn-group',\n",
       " 'fpage',\n",
       " 'free_to_read',\n",
       " 'front',\n",
       " 'front-stub',\n",
       " 'funding-group',\n",
       " 'funding-source',\n",
       " 'funding-statement',\n",
       " 'given-names',\n",
       " 'glossary',\n",
       " 'graphic',\n",
       " 'history',\n",
       " 'hr',\n",
       " 'inline-formula',\n",
       " 'inline-graphic',\n",
       " 'inline-supplementary-material',\n",
       " 'institution',\n",
       " 'institution-id',\n",
       " 'institution-wrap',\n",
       " 'isbn',\n",
       " 'issn',\n",
       " 'issue',\n",
       " 'issue-id',\n",
       " 'issue-part',\n",
       " 'issue-sponsor',\n",
       " 'issue-title',\n",
       " 'italic',\n",
       " 'journal-id',\n",
       " 'journal-meta',\n",
       " 'journal-title',\n",
       " 'journal-title-group',\n",
       " 'kwd',\n",
       " 'kwd-group',\n",
       " 'label',\n",
       " 'license',\n",
       " 'license-p',\n",
       " 'license_ref',\n",
       " 'list',\n",
       " 'list-item',\n",
       " 'lpage',\n",
       " 'math',\n",
       " 'media',\n",
       " 'meta-name',\n",
       " 'meta-value',\n",
       " 'mfenced',\n",
       " 'mfrac',\n",
       " 'mi',\n",
       " 'mixed-citation',\n",
       " 'mn',\n",
       " 'mo',\n",
       " 'monospace',\n",
       " 'month',\n",
       " 'mover',\n",
       " 'mroot',\n",
       " 'mrow',\n",
       " 'mspace',\n",
       " 'msqrt',\n",
       " 'mstyle',\n",
       " 'msub',\n",
       " 'msubsup',\n",
       " 'msup',\n",
       " 'mtable',\n",
       " 'mtd',\n",
       " 'mtext',\n",
       " 'mtr',\n",
       " 'munder',\n",
       " 'munderover',\n",
       " 'name',\n",
       " 'named-content',\n",
       " 'note',\n",
       " 'notes',\n",
       " 'object-id',\n",
       " 'open-access',\n",
       " 'p',\n",
       " 'page-count',\n",
       " 'page-range',\n",
       " 'permissions',\n",
       " 'person-group',\n",
       " 'phone',\n",
       " 'pmc-articleset',\n",
       " 'postal-code',\n",
       " 'prefix',\n",
       " 'principal-award-recipient',\n",
       " 'pub-date',\n",
       " 'pub-id',\n",
       " 'publisher',\n",
       " 'publisher-loc',\n",
       " 'publisher-name',\n",
       " 'ref',\n",
       " 'ref-count',\n",
       " 'ref-list',\n",
       " 'related-article',\n",
       " 'related-object',\n",
       " 'role',\n",
       " 'sc',\n",
       " 'season',\n",
       " 'sec',\n",
       " 'self-uri',\n",
       " 'semantics',\n",
       " 'series',\n",
       " 'series-title',\n",
       " 'size',\n",
       " 'source',\n",
       " 'state',\n",
       " 'statement',\n",
       " 'string-name',\n",
       " 'styled-content',\n",
       " 'sub',\n",
       " 'sub-article',\n",
       " 'subj-group',\n",
       " 'subject',\n",
       " 'subtitle',\n",
       " 'suffix',\n",
       " 'sup',\n",
       " 'supplement',\n",
       " 'supplementary-material',\n",
       " 'surname',\n",
       " 'table',\n",
       " 'table-count',\n",
       " 'table-wrap',\n",
       " 'table-wrap-foot',\n",
       " 'target',\n",
       " 'tbody',\n",
       " 'td',\n",
       " 'term',\n",
       " 'tex-math',\n",
       " 'tfoot',\n",
       " 'th',\n",
       " 'thead',\n",
       " 'title',\n",
       " 'title-group',\n",
       " 'tr',\n",
       " 'trans-abstract',\n",
       " 'trans-title',\n",
       " 'trans-title-group',\n",
       " 'underline',\n",
       " 'uri',\n",
       " 'volume',\n",
       " 'word-count',\n",
       " 'x',\n",
       " 'xref',\n",
       " 'year'}"
      ]
     },
     "execution_count": 30,
     "metadata": {},
     "output_type": "execute_result"
    }
   ],
   "source": [
    "set([tag.name for tag in pmc_paper_data.find_all()])"
   ]
  },
  {
   "cell_type": "code",
   "execution_count": 70,
   "metadata": {},
   "outputs": [
    {
     "data": {
      "text/plain": [
       "1200"
      ]
     },
     "execution_count": 70,
     "metadata": {},
     "output_type": "execute_result"
    }
   ],
   "source": [
    "len(pmc_paper_data.find_all('article'))"
   ]
  },
  {
   "cell_type": "code",
   "execution_count": 71,
   "metadata": {},
   "outputs": [
    {
     "data": {
      "text/plain": [
       "1282"
      ]
     },
     "execution_count": 71,
     "metadata": {},
     "output_type": "execute_result"
    }
   ],
   "source": [
    "len(pmc_paper_data.find_all('abstract'))"
   ]
  },
  {
   "cell_type": "code",
   "execution_count": 59,
   "metadata": {},
   "outputs": [],
   "source": [
    "#pmc_paper_data.find_all('article-id', attrs={'pub-id-type' : 'pmc'})\n",
    "#./pmc-articleset/article/ [@pub-id-type=\"pmc\"]"
   ]
  },
  {
   "cell_type": "code",
   "execution_count": 60,
   "metadata": {},
   "outputs": [],
   "source": [
    "all_pmc_ids = [tag.text for tag in pmc_paper_data.find_all('article-id', attrs={'pub-id-type' : 'pmc'})]"
   ]
  },
  {
   "cell_type": "code",
   "execution_count": 75,
   "metadata": {},
   "outputs": [],
   "source": [
    "all_article = pmc_paper_data.find_all('article')"
   ]
  },
  {
   "cell_type": "code",
   "execution_count": 132,
   "metadata": {},
   "outputs": [
    {
     "name": "stdout",
     "output_type": "stream",
     "text": [
      "Chen Zhiguo, Wang Yong, Mo Juan, Hawley Eric, Shipman Tracey, Le Lu Q., Brosseau Jean-Philippe, Carroll Thomas J., Li Stephen, He Yongzheng, Clapp D. Wade\n",
      "\n",
      "\n",
      "Napolitano Filomena, Melone Mariarosa Anna Beatrice, Riccardi Claudia, Perrone Lorena, Sampaolo Simone\n",
      "\n",
      "\n",
      "Temel Yasin, Hovinga Koos E.\n",
      "\n",
      "\n",
      "Kirby Amelia, Guzman Miguel, Pinz Hailey, Navalkele Pournima, Kemp Joanna\n",
      "\n",
      "\n",
      "Božanić Urbančič Nina, Battelino Saba, Tesovnik Tine, Trebušak Podkrajšek Katarina\n",
      "\n",
      "\n",
      "Paats Marthe S., Veerman G.D. Marijn, van den Bent Martin J.\n",
      "\n",
      "\n",
      "Gugel Isabel, Tatagiba Marcos, Zipfel Julian, Kluwe Lan, Schuhmann Martin Ulrich, Hartjen Philip, Mautner Victor-Felix\n",
      "\n",
      "\n",
      "Grimm Florian, Gugel Isabel, Teuber Christian, Tatagiba Marcos, Zipfel Julian, Kluwe Lan, Schuhmann Martin Ulrich, Mautner Victor-Felix\n",
      "\n",
      "\n",
      "Gray Robert, Hamilton Stanley R, Takebe Naoko, Sims David J, Li Shuli, Mitchell Edith P, Harris Lyndsay N, Rubinstein Larry V, Comis Robert, Catalano Robert, Flaherty Keith T, Zwiebel James A, Kibbe Warren, Schwartz Gary K, Williams Paul M, Marinucci Donna, Sklar Jeffrey, McCaskill-Stevens Worta, Routbort Mark, Iafrate A John, Conley Barbara A, Abrams Jeffrey S, Little Richard F, Weil Carol, Meric-Bernstam Funda, Chen Alice, Patton David, Coffey Brent, Datta Vivekananda, Lih Chih-Jian, Magnan Rick, Fu Tony, Caimi Paolo, Alexander Brian, McShane Lisa M, O’Dwyer Peter J, Kumar Shaji, Tricoli James V, Arteaga Carlos L\n",
      "\n",
      "\n",
      "Schmid Ralph A., Peng Ren-Wang, Yang Haitang, Xu Duo\n",
      "\n",
      "\n"
     ]
    }
   ],
   "source": [
    "for article in all_article[:10]:\n",
    "    pmd = article.find(\"article-id\", attrs={'pub-id-type' : 'pmc'}).getText()\n",
    "    title = article.find(\"article-title\").getText()\n",
    "    author_ls = set([s.getText().strip().replace(\"\\n\", \" \") for ss in article.find_all(\"contrib\", attrs = {'contrib-type': \"author\"}) for s in ss.find_all(\"name\")])\n",
    "    authors = ', '.join(author_ls)\n",
    "    affliations = \n",
    "    abstract_node = article.find(\"abstract\")\n",
    "    if abstract_node:\n",
    "        abstract = abstract_node.find(\"p\").getText().strip()\n",
    "    else:\n",
    "        abstract = ''\n",
    "        \n",
    "    print(authors)\n",
    "    print(\"\\n\")"
   ]
  },
  {
   "cell_type": "code",
   "execution_count": 155,
   "metadata": {},
   "outputs": [
    {
     "data": {
      "text/plain": [
       "['n1\\nDepartment of Pediatrics, Cardinal Glennon Children’s Hospital, St. Louis University, St. Louis, Missouri',\n",
       " 'n2\\nDepartment of Pathology, Cardinal Glennon Children’s Hospital, St. University, St. Louis University, St. Louis, Missouri',\n",
       " 'n3\\nDepartment of Pediatrics, Wake Forest School of Medicine, Winston-Salem, North Carolina',\n",
       " 'n4\\nDepartment of Genetics, Cardinal Glennon Children’s Hospital, St. Louis University, St. Louis, Missouri',\n",
       " 'n5\\nDepartment of Neurosurgery, Saint Louis University Hospital, St. Louis University, St. Louis, Missouri']"
      ]
     },
     "execution_count": 155,
     "metadata": {},
     "output_type": "execute_result"
    }
   ],
   "source": [
    "[t.text for t in all_article[3].find_all(\"aff\")]"
   ]
  },
  {
   "cell_type": "code",
   "execution_count": 149,
   "metadata": {},
   "outputs": [
    {
     "data": {
      "text/plain": [
       "['Paediatrics and Adolescent Medicine, Medical Faculty, University of Augsburg',\n",
       " 'Department of Clinical Psychology, Helmut Schmidt University',\n",
       " 'Institute of Neuropathology, DGNN Brain Tumor Reference Center, University Bonn',\n",
       " 'Institute of Diagnostic and Interventional Neuroradiology, University Hospital Wuerzburg',\n",
       " 'Section of Pediatric Neurosurgery, University Hospital Wuerzburg',\n",
       " 'Department of Radio-Oncology, University Leipzig',\n",
       " 'Department of Particle Therapy, University Hospital Essen, West German Proton Therapy Centre Essen (WPE), West German Cancer Center (WTZ), German Cancer Consortium (DKTK)',\n",
       " 'Pediatric Neurosurgery, Charité Universitaetsmedizin Berlin',\n",
       " 'Hopp Children’s Cancer Center Heidelberg (KiTZ), German Cancer Research Center (DKFZ) and Heidelberg University Hospital',\n",
       " 'University Medical Center Hamburg-Eppendorf',\n",
       " 'Department of Pediatric Oncology/Hematology, Charité-Universitaetsmedizin Berlin, Corporate member of Freie Universitaet Berlin, Humboldt-Universitaet zu Berlin, and Berlin Institute of Health']"
      ]
     },
     "execution_count": 149,
     "metadata": {},
     "output_type": "execute_result"
    }
   ],
   "source": [
    "[t.text for tt in all_article[112].find_all(\"aff\") for t in tt.find_all('institution')]"
   ]
  },
  {
   "cell_type": "code",
   "execution_count": 130,
   "metadata": {},
   "outputs": [
    {
     "data": {
      "text/plain": [
       "{'Melone Mariarosa Anna Beatrice',\n",
       " 'Napolitano Filomena',\n",
       " 'Perrone Lorena',\n",
       " 'Riccardi Claudia',\n",
       " 'Sampaolo Simone'}"
      ]
     },
     "execution_count": 130,
     "metadata": {},
     "output_type": "execute_result"
    }
   ],
   "source": [
    "\n",
    "set([s.getText().strip().replace(\"\\n\", \" \") for ss in all_article[1].find_all(\"contrib\", attrs = {'contrib-type': \"author\"}) for s in ss.find_all(\"name\")])\n"
   ]
  },
  {
   "cell_type": "code",
   "execution_count": 61,
   "metadata": {},
   "outputs": [
    {
     "data": {
      "text/plain": [
       "1200"
      ]
     },
     "execution_count": 61,
     "metadata": {},
     "output_type": "execute_result"
    }
   ],
   "source": [
    "len(all_pmc_ids)"
   ]
  },
  {
   "cell_type": "code",
   "execution_count": 55,
   "metadata": {},
   "outputs": [],
   "source": [
    "all_titles = [tag.text for tag in pmc_paper_data.find_all('article-title')]"
   ]
  },
  {
   "cell_type": "code",
   "execution_count": 57,
   "metadata": {},
   "outputs": [
    {
     "data": {
      "text/plain": [
       "bs4.BeautifulSoup"
      ]
     },
     "execution_count": 57,
     "metadata": {},
     "output_type": "execute_result"
    }
   ],
   "source": [
    "type(pmc_paper_data)"
   ]
  },
  {
   "cell_type": "code",
   "execution_count": 56,
   "metadata": {},
   "outputs": [
    {
     "data": {
      "text/plain": [
       "75321"
      ]
     },
     "execution_count": 56,
     "metadata": {},
     "output_type": "execute_result"
    }
   ],
   "source": [
    "len(all_titles)"
   ]
  },
  {
   "cell_type": "code",
   "execution_count": null,
   "metadata": {},
   "outputs": [],
   "source": [
    "for movie in pmc_paper_data.findall(\"article-id\"):\n",
    "    print(movie.attrib)"
   ]
  }
 ],
 "metadata": {
  "kernelspec": {
   "display_name": "Python 3",
   "language": "python",
   "name": "python3"
  },
  "language_info": {
   "codemirror_mode": {
    "name": "ipython",
    "version": 3
   },
   "file_extension": ".py",
   "mimetype": "text/x-python",
   "name": "python",
   "nbconvert_exporter": "python",
   "pygments_lexer": "ipython3",
   "version": "3.7.6"
  }
 },
 "nbformat": 4,
 "nbformat_minor": 4
}
